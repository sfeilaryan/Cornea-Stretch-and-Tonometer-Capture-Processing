{
 "cells": [
  {
   "cell_type": "markdown",
   "id": "12de66c7",
   "metadata": {},
   "source": [
    "We proceed with the 1D cornea problem in this new notebook so as to make compilation faster and more concise. We will fix the issue presented at the end of the first notebook."
   ]
  },
  {
   "cell_type": "markdown",
   "id": "f94278d8",
   "metadata": {},
   "source": [
    "We've changed the fitting polynomial order, changed the evolution fucntion so as to provide the previous frame's equilibrium dislacements as a an initial guess for the iterative algorithm that find the displacements on a give frame, and we will now assess strong fluctuations between consecutive frames to find the root of the main issue affecting the smoothness of our predicted $U(t)$ curve."
   ]
  },
  {
   "cell_type": "markdown",
   "id": "5294d12e",
   "metadata": {},
   "source": [
    "We import all necessary functions and modules below."
   ]
  },
  {
   "cell_type": "code",
   "execution_count": 1,
   "id": "f422854f",
   "metadata": {},
   "outputs": [],
   "source": [
    "## loading python libraries\n",
    "\n",
    "# necessary to display plots inline:\n",
    "%matplotlib inline\n",
    "\n",
    "# load the libraries\n",
    "import matplotlib.pyplot as plt # 2D plotting library\n",
    "import numpy as np              # package for scientific computing\n",
    "\n",
    "from scipy.optimize import fsolve   # Numerically solve non-linear system of equations\n",
    "from scipy.optimize import minimize # Numerically minimize scalar multivariable function\n",
    "\n",
    "from math import *              # package for mathematics (pi, arctan, sqrt, factorial ...)\n",
    "\n",
    "import cv2                      # In case I have to write code similar to that of Wu Yifan\n",
    "import os\n",
    "import matplotlib.animation as ani\n",
    "import sympy as sp\n",
    "import utils                    # Wu Yifan's image/video processing functions\n",
    "from PIL import Image           # Movie creation\n",
    "import threading                # MultiThreading\n",
    "import random"
   ]
  },
  {
   "cell_type": "code",
   "execution_count": 2,
   "id": "40d37682",
   "metadata": {},
   "outputs": [],
   "source": [
    "utils.initialize()  #Initialize directories (if they don't exist)"
   ]
  },
  {
   "cell_type": "code",
   "execution_count": 3,
   "id": "ed29e502",
   "metadata": {},
   "outputs": [],
   "source": [
    "N = 100\n",
    "K = np.ones(N+1)  # Subject to change after careful analysis - Vector for N+1 segments"
   ]
  },
  {
   "cell_type": "code",
   "execution_count": 4,
   "id": "eaab8258",
   "metadata": {},
   "outputs": [],
   "source": [
    "def initialLengthsFinder(x_0, y_0):  #Returns the N+1 segment Lengths, take N+2\n",
    "                                     #node coordinates\n",
    "    lengths = np.zeros(N+1)\n",
    "    for i in range(x_0.shape[0]-1):\n",
    "        length = sqrt((x_0[i]-x_0[i+1])**2 +(y_0[i]-y_0[i+1])**2)\n",
    "        lengths[i] = length\n",
    "    return lengths"
   ]
  },
  {
   "cell_type": "code",
   "execution_count": 5,
   "id": "132060c2",
   "metadata": {},
   "outputs": [],
   "source": [
    "def euclideanDistance(xy_1, xy_2): #probably existing function\n",
    "    return sqrt(((xy_1[0]-xy_2[0])**2)+((xy_1[1]-xy_2[1])**2))"
   ]
  },
  {
   "cell_type": "code",
   "execution_count": 6,
   "id": "3963e6f0",
   "metadata": {},
   "outputs": [],
   "source": [
    "def slope(xy1, xy2):\n",
    "    return (xy2[1] - xy1[1]) / (xy2[0] - xy1[0])"
   ]
  },
  {
   "cell_type": "code",
   "execution_count": 7,
   "id": "5e8fe5d2",
   "metadata": {},
   "outputs": [],
   "source": [
    "def partialsVectorFunction(u_i, x_0, y_i, lengths, K):   #to pass to fsolve - N sized (unclamped nodes)\n",
    "\n",
    "    u = np.zeros(N+2)\n",
    "    for i in range(u_i.shape[0]):\n",
    "        u[i+1] = u_i[i]\n",
    "\n",
    "    y = y_i\n",
    "\n",
    "    x= x_0\n",
    "\n",
    "    Lengths = np.zeros(N+2)\n",
    "\n",
    "    for j in range(N+1):\n",
    "        Lengths[j+1] = lengths[j]   #for the sake of clarity (array sizes)\n",
    "\n",
    "    newK = np.zeros(N+2)\n",
    "\n",
    "    for l in range(N+1):\n",
    "        newK[l+1] = K[l]   #for the sake of clarity (array sizes)\n",
    "\n",
    "    finalVectorNotCut = np.zeros(u.shape[0])\n",
    "\n",
    "    for k in range(1, u.shape[0]-1):\n",
    "        slopeLeft = slope((x[k-1], y[k-1]),(x[k],y[k]))\n",
    "        slopeRight = slope((x[k],y[k]),(x[k+1],y[k+1]))\n",
    "        leftK = newK[k]\n",
    "        rightK = newK[k+1]\n",
    "        leftLen = Lengths[k]\n",
    "        rightLen = Lengths[k+1]   #clarity per iteration\n",
    "\n",
    "        leftEucTuple_y2 = y[k]+u[k]*slopeLeft\n",
    "        leftEucTuple_x2 = x[k]+u[k]\n",
    "\n",
    "        leftEucTuple_xy2 = (leftEucTuple_x2, leftEucTuple_y2)\n",
    "\n",
    "        leftEucTuple_y1 = y[k-1]+ u[k-1]*slopeLeft\n",
    "        leftEucTuple_x1 = x[k-1]+u[k-1]\n",
    "\n",
    "        leftEucTuple_xy1 = (leftEucTuple_x1, leftEucTuple_y1)\n",
    "\n",
    "        leftEuc = euclideanDistance(leftEucTuple_xy1, leftEucTuple_xy2) #first square root\n",
    "\n",
    "        RightEucTuple_y2 = y[k+1] + u[k+1]*slopeRight\n",
    "        RightEucTuple_x2 = x[k+1]+u[k+1]\n",
    "\n",
    "        RightEucTuple_xy2 = (RightEucTuple_x2, RightEucTuple_y2)\n",
    "\n",
    "        RightEucTuple_y1 = y[k] + u[k]*slopeRight\n",
    "        RightEucTuple_x1 = x[k]+u[k]\n",
    "\n",
    "        RightEucTuple_xy1 = (RightEucTuple_x1, RightEucTuple_y1)\n",
    "\n",
    "        RightEuc = euclideanDistance(RightEucTuple_xy1, RightEucTuple_xy2) #second square root\n",
    "\n",
    "        #now to actually compute this component of the final vector\n",
    "\n",
    "        leftTerm = (leftK*(leftEuc - leftLen))/leftEuc\n",
    "        leftTerm = leftTerm * (leftEucTuple_x2-leftEucTuple_x1 + (leftEucTuple_y2-leftEucTuple_y1)*slopeLeft)\n",
    "\n",
    "        rightTerm = (rightK*(RightEuc - rightLen))/RightEuc\n",
    "        rightTerm = rightTerm *(RightEucTuple_x2-RightEucTuple_x1 + (RightEucTuple_y2-RightEucTuple_y1)*slopeRight)\n",
    "\n",
    "        finalVectorNotCut[k] = leftTerm - rightTerm\n",
    "\n",
    "    return finalVectorNotCut[1: N+1]\n"
   ]
  },
  {
   "cell_type": "code",
   "execution_count": 8,
   "id": "42a756f7",
   "metadata": {},
   "outputs": [],
   "source": [
    "def potentialEnergy(u_i, x_0, y_i, lengths, K):\n",
    "    \n",
    "    segmentEnergies = np.zeros(N+1)        #To sum at the end\n",
    "    x = x_0\n",
    "    y = y_i\n",
    "    u = np.zeros(N+2)\n",
    "    \n",
    "    for j in range(u.shape[0]-2):\n",
    "        u[j+1] = u_i[j]\n",
    "        \n",
    "    for i in range(K.shape[0]):\n",
    "        \n",
    "        Slope = slope((x[i],y[i]),(x[i+1],y[i+1]))\n",
    "        \n",
    "        p1 = (x[i]+u[i], y[i]+Slope*u[i])\n",
    "        p2 = (x[i+1]+u[i+1], y[i+1] + Slope*u[i+1])\n",
    "        \n",
    "        newDist = euclideanDistance(p1, p2)\n",
    "        \n",
    "        segmentEnergies[i] = 0.5 * K[i] * (newDist - lengths[i])**2\n",
    "    \n",
    "    return np.sum(segmentEnergies)\n",
    "        "
   ]
  },
  {
   "cell_type": "code",
   "execution_count": 9,
   "id": "99bec694",
   "metadata": {},
   "outputs": [],
   "source": [
    "def getFrames(video_name):\n",
    "    if not(os.path.exists(\"Data/video\"+video_name+\"/\")):\n",
    "        utils.video_to_image(video_name)\n",
    "    else:\n",
    "        print(\"Frames already extracted, delete directory to repeat.\")"
   ]
  },
  {
   "cell_type": "code",
   "execution_count": 10,
   "id": "917e8bed",
   "metadata": {},
   "outputs": [],
   "source": [
    "def treatImagesInPlace(video_name):\n",
    "    \n",
    "    imagesLocation = \"Data/video\"+video_name+\"/\"\n",
    "    if not(os.path.exists(\"Data/video\"+video_name+\"_TREATED/\")):\n",
    "        os.mkdir(\"Data/video\"+video_name+\"_TREATED/\")\n",
    "    else:\n",
    "        print(\"Already treated, delete directrory to repeat.\")\n",
    "        return\n",
    "    \n",
    "    \n",
    "    for i in os.listdir(imagesLocation):\n",
    "        imageLoc = imagesLocation+i\n",
    "        toTreat = cv2.imread(imageLoc)\n",
    "        image = utils.image_processing(toTreat)\n",
    "        cv2.imwrite(\"Data/video\"+video_name+\"_TREATED/\"+i, image)"
   ]
  },
  {
   "cell_type": "code",
   "execution_count": 11,
   "id": "c2a5f3bd",
   "metadata": {},
   "outputs": [],
   "source": [
    "def Polynomial(coefArr, x, order = 4):\n",
    "    result = np.zeros(x.shape[0])\n",
    "    for i in range(coefArr.shape[0]):\n",
    "        cf = coefArr[i]\n",
    "        result += cf*(x**(order - i))\n",
    "    return result"
   ]
  },
  {
   "cell_type": "code",
   "execution_count": 12,
   "id": "806a0a6c",
   "metadata": {},
   "outputs": [],
   "source": [
    "def continuous_waveform(x_list, waveform, order=4):\n",
    "\n",
    "    coef = np.polyfit(x_list, waveform, order)\n",
    "    \n",
    "    \n",
    "    \n",
    "    return (x_list, Polynomial(coef, x_list, order), coef)\n",
    "    "
   ]
  },
  {
   "cell_type": "code",
   "execution_count": 13,
   "id": "70749c9a",
   "metadata": {},
   "outputs": [],
   "source": [
    "def reOrient(yList):\n",
    "    return utils.height-yList"
   ]
  },
  {
   "cell_type": "code",
   "execution_count": 14,
   "id": "73f65dbe",
   "metadata": {},
   "outputs": [],
   "source": [
    "def getMiddleWaveform(videoName, imageNumber, OUTPUT = True):   #no path - just number\n",
    "    imagePath = \"Data/video\"+videoName+\"_TREATED/\"+\"image\"+ str(imageNumber) +\".jpg\"\n",
    "    frame = cv2.imread(imagePath)\n",
    "    frame = utils.image_processing(frame) #To get two dimensional array instead of 3 (Grayscale)\n",
    "    \n",
    "    waveform = utils.get_waveform(frame, output = OUTPUT) #Upper and Lower surfaces\n",
    "    upper_surface = waveform[:, 0]\n",
    "    lower_surface = waveform[:, 1]\n",
    "    middle_line = 0.5 * (upper_surface + lower_surface)\n",
    "\n",
    "    #plt.plot(np.arange(utils.width), middle_line, label = \"middle\")     # CAN CHANGE\n",
    "    #plt.show()\n",
    "    \n",
    "    continuousMiddle = continuous_waveform(np.arange(utils.width)[30:], middle_line[30:])\n",
    "    \n",
    "    return continuousMiddle\n",
    "    \n",
    "    \n",
    "    "
   ]
  },
  {
   "cell_type": "code",
   "execution_count": 15,
   "id": "e94f4581",
   "metadata": {},
   "outputs": [],
   "source": [
    "def getFramePotential(videoName, imageNumber, initialLengths, K_arr, output = False, iGuess = np.zeros(N)):\n",
    "    \n",
    "    middle = getMiddleWaveform(videoName, imageNumber, output)\n",
    "    x_nodes = np.linspace(0,575, N+2)\n",
    "    coefficients = middle[2]\n",
    "    y_nodes = Polynomial(coefficients, x_nodes)\n",
    "    \n",
    "#     plt.figure()\n",
    "#     plt.plot(x_nodes,y_nodes)\n",
    "#     plt.show()\n",
    "    \n",
    "    displacements = minimize(potentialEnergy, iGuess, args = (x_nodes, y_nodes, initialLengths, K_arr))\n",
    "    \n",
    "#     print(displacements.x)\n",
    "\n",
    "    U_pot = potentialEnergy(displacements.x, x_nodes, y_nodes, initialLengths, K_arr)\n",
    "    \n",
    "#     plt.figure(figsize=(8,6))\n",
    "#     plt.plot(x_nodes[1:-1], displacements.x)\n",
    "#     plt.title(f\"Fram: {imageNumber}\")\n",
    "#     plt.show()\n",
    "    \n",
    "    \n",
    "    return U_pot, displacements.x"
   ]
  },
  {
   "cell_type": "code",
   "execution_count": 16,
   "id": "07c568c9",
   "metadata": {},
   "outputs": [],
   "source": [
    "def potentialEvolution(videoName, totalImages, increment = 5):   #returns Potential Array (Chronological)\n",
    "    \n",
    "    imageNumber = 1\n",
    "    \n",
    "    # First, get the initial lengths and stiffnesses.\n",
    "    \n",
    "    x_nodes = np.linspace(0,575, N+2)\n",
    "    \n",
    "    middle = getMiddleWaveform(videoName, imageNumber, False)\n",
    "    coefficients = middle[2]\n",
    "    y_nodes = Polynomial(coefficients, x_nodes)\n",
    "    \n",
    "    initialLengths = initialLengthsFinder(x_nodes, y_nodes)\n",
    "    K_arr = np.ones(N+1)/initialLengths\n",
    "    \n",
    "    # Iterate over images and record potential\n",
    "    \n",
    "    U_arr = np.zeros(totalImages)\n",
    "    iGuess = np.zeros(N)\n",
    "    \n",
    "    while imageNumber <= totalImages:\n",
    "        \n",
    "        print(f'Processing Frame: {imageNumber}')\n",
    "        U, newGuess = getFramePotential(videoName, imageNumber, initialLengths, K_arr, iGuess)\n",
    "        U_arr[imageNumber - 1] = U\n",
    "        imageNumber += increment\n",
    "        iGuess = newGuess\n",
    "    \n",
    "    return U_arr"
   ]
  },
  {
   "cell_type": "markdown",
   "id": "d1569d2b",
   "metadata": {},
   "source": [
    "Let us to make a movie of the middle line to make sure our polynomial fitting is not causing an issue."
   ]
  },
  {
   "cell_type": "code",
   "execution_count": 17,
   "id": "3fe9d95b",
   "metadata": {},
   "outputs": [],
   "source": [
    "def getWaveformFrames(videoName, totalImages=139):\n",
    "    if os.path.exists(\"Waveforms/FRAMES/\"+videoName+\"/\"):\n",
    "        print(\"Already Processed.\")\n",
    "        return\n",
    "    else:\n",
    "        os.mkdir(\"Waveforms/FRAMES/\"+videoName+\"/\")\n",
    "        imageNumber = 1\n",
    "        while imageNumber <= totalImages:\n",
    "            middle = getMiddleWaveform(videoName, imageNumber, OUTPUT = False)    #it is a thruple.\n",
    "            plt.figure(figsize = (12,8))\n",
    "            plt.plot(middle[0], middle[1])\n",
    "            plt.title(\"Waveform on frame \" + str(imageNumber))\n",
    "            plt.ylim((0,200))\n",
    "            plt.xlim((0,600))\n",
    "            plt.savefig(\"Waveforms/FRAMES/\"+videoName+\"/\"+str(imageNumber)+\".png\")\n",
    "            plt.close()\n",
    "            imageNumber+=1"
   ]
  },
  {
   "cell_type": "markdown",
   "id": "21cfe3aa",
   "metadata": {},
   "source": [
    "The above function gets the frames to make a movie out of the waveforms. We can make sure it works."
   ]
  },
  {
   "cell_type": "code",
   "execution_count": 18,
   "id": "4b66d01c",
   "metadata": {},
   "outputs": [
    {
     "name": "stdout",
     "output_type": "stream",
     "text": [
      "Already Processed.\n"
     ]
    }
   ],
   "source": [
    "getWaveformFrames(\"001BA_Left_20160203_132002.avi\")"
   ]
  },
  {
   "cell_type": "markdown",
   "id": "32725df9",
   "metadata": {},
   "source": [
    "We will now qrite code to make a movie of the waveform's evolution. A smooth evolution ensures only one thing: the problem does not arise from polynomial fitting. We've also eliminated the possibility that a zero displacement initial guess causes problems by changing function. Before retesting our $U(t)$ curve, we will write two more diagnostic functions: the potential as a function of horizontal position on frames causing large, unphysical fluctuations."
   ]
  },
  {
   "cell_type": "code",
   "execution_count": 19,
   "id": "e718bb74",
   "metadata": {},
   "outputs": [],
   "source": [
    "def formattedImageCreator_waveform(videoName):\n",
    "    \n",
    "    if os.path.exists(\"Waveforms/FRAMES_RESIZED/\"+videoName+\"/\"):\n",
    "        print(\"Already Processed.\")\n",
    "        return\n",
    "    \n",
    "    os.mkdir(\"Waveforms/FRAMES_RESIZED/\"+videoName+\"/\")\n",
    "    \n",
    "    path = \"Waveforms/FRAMES/\"+videoName\n",
    "    mean_height = 0\n",
    "    mean_width = 0\n",
    "  \n",
    "    num_of_images = len(os.listdir(path))\n",
    "    \n",
    "    for file in os.listdir(path): \n",
    "        im = Image.open(os.path.join(path, file)) \n",
    "        width, height = im.size \n",
    "        mean_width += width \n",
    "        mean_height += height\n",
    "    \n",
    "    mean_width = int(mean_width / num_of_images) \n",
    "    mean_height = int(mean_height / num_of_images)\n",
    "    \n",
    "    imageIterator = 1\n",
    "    \n",
    "    while imageIterator <= num_of_images:\n",
    "        imageName = str(imageIterator) + \".png\"\n",
    "        im = Image.open(os.path.join(path, imageName))\n",
    "        \n",
    "        width, height = im.size \n",
    "        \n",
    "        # resizing  \n",
    "        imResize = im.resize((mean_width, mean_height), Image.ANTIALIAS)  \n",
    "        imResize.save( \"Waveforms/FRAMES_RESIZED/\"+videoName+\"/\"+str(imageIterator)+\".png\", quality = 95) # setting quality\n",
    "        imageIterator+=1\n",
    "    "
   ]
  },
  {
   "cell_type": "code",
   "execution_count": 20,
   "id": "067adb0f",
   "metadata": {},
   "outputs": [],
   "source": [
    "def generate_video_waveform(videoName):\n",
    "    \n",
    "    if os.path.exists(\"Waveforms/MOVIES/\"+videoName[:-4]+\"WAVEFORM.mp4\"):\n",
    "        print(\"Already processed.\")\n",
    "        return\n",
    "    \n",
    "    \n",
    "    image_folder = \"Waveforms/FRAMES_RESIZED/\"+videoName\n",
    "    video_name = \"Waveforms/MOVIES/\"+videoName[:-4]+\"WAVEFORM.mp4\"\n",
    "    \n",
    "    #must create the image array\n",
    "    \n",
    "    num_of_images = len(os.listdir(image_folder))\n",
    "    \n",
    "    imageIterator = 1\n",
    "    images=[]\n",
    "    \n",
    "    while imageIterator <= num_of_images:\n",
    "        imageName = os.path.join(image_folder, str(imageIterator)+\".png\")\n",
    "        images.append(imageName)\n",
    "        imageIterator+=1\n",
    "    #print(images)\n",
    "    \n",
    "        \n",
    "    frame = cv2.imread(images[0]) \n",
    "  \n",
    "    # setting the frame width, height width \n",
    "    # the width, height of first image \n",
    "    height, width, layers = frame.shape   \n",
    "    \n",
    "    video = cv2.VideoWriter(video_name,0x7634706d , 5, (width, height))  \n",
    "  \n",
    "    # Appending the images to the video one by one \n",
    "    for image in images:  \n",
    "        video.write(cv2.imread(image))  \n",
    "      \n",
    "    # Deallocating memories taken for window creation \n",
    "    cv2.destroyAllWindows()  \n",
    "    video.release()  # releasing the video generated"
   ]
  },
  {
   "cell_type": "markdown",
   "id": "53a864d7",
   "metadata": {},
   "source": [
    "Let us now test the above functions."
   ]
  },
  {
   "cell_type": "code",
   "execution_count": 21,
   "id": "535e1496",
   "metadata": {},
   "outputs": [
    {
     "name": "stdout",
     "output_type": "stream",
     "text": [
      "Already Processed.\n"
     ]
    }
   ],
   "source": [
    "formattedImageCreator_waveform(\"001BA_Left_20160203_132002.avi\")"
   ]
  },
  {
   "cell_type": "code",
   "execution_count": 22,
   "id": "b4ece6b8",
   "metadata": {},
   "outputs": [
    {
     "name": "stdout",
     "output_type": "stream",
     "text": [
      "Already processed.\n"
     ]
    }
   ],
   "source": [
    "generate_video_waveform(\"001BA_Left_20160203_132002.avi\")"
   ]
  },
  {
   "cell_type": "markdown",
   "id": "21b6df06",
   "metadata": {},
   "source": [
    "These functions work fine but we must save the images properly, preventing the axes from changing. (Done!)"
   ]
  },
  {
   "cell_type": "markdown",
   "id": "a5372a47",
   "metadata": {},
   "source": [
    "Let us look at frames 41 to 61, where the potential energy fluctuates very strongly, and let us try to identify areas of localization of energy."
   ]
  },
  {
   "cell_type": "code",
   "execution_count": 35,
   "id": "3cd4e6fa",
   "metadata": {},
   "outputs": [
    {
     "data": {
      "image/png": "[encoded data removed]",
      "text/plain": [
       "<Figure size 576x432 with 1 Axes>"
      ]
     },
     "metadata": {
      "needs_background": "light"
     },
     "output_type": "display_data"
    },
    {
     "name": "stdout",
     "output_type": "stream",
     "text": [
      "Energy: 0.0439712842393653\n"
     ]
    },
    {
     "data": {
      "image/png": "[encoded data removed]",
      "text/plain": [
       "<Figure size 576x432 with 1 Axes>"
      ]
     },
     "metadata": {
      "needs_background": "light"
     },
     "output_type": "display_data"
    },
    {
     "name": "stdout",
     "output_type": "stream",
     "text": [
      "Energy: 0.06778175931649966\n"
     ]
    },
    {
     "data": {
      "image/png": "[encoded data removed]",
      "text/plain": [
       "<Figure size 576x432 with 1 Axes>"
      ]
     },
     "metadata": {
      "needs_background": "light"
     },
     "output_type": "display_data"
    },
    {
     "name": "stdout",
     "output_type": "stream",
     "text": [
      "Energy: 0.055439470577930236\n"
     ]
    },
    {
     "data": {
      "image/png": "[encoded data removed]",
      "text/plain": [
       "<Figure size 576x432 with 1 Axes>"
      ]
     },
     "metadata": {
      "needs_background": "light"
     },
     "output_type": "display_data"
    },
    {
     "name": "stdout",
     "output_type": "stream",
     "text": [
      "Energy: 0.026765394226540527\n"
     ]
    },
    {
     "data": {
      "image/png": "[encoded data removed]",
      "text/plain": [
       "<Figure size 576x432 with 1 Axes>"
      ]
     },
     "metadata": {
      "needs_background": "light"
     },
     "output_type": "display_data"
    },
    {
     "name": "stdout",
     "output_type": "stream",
     "text": [
      "Energy: 0.013557154632490713\n"
     ]
    }
   ],
   "source": [
    "videoName = \"001BA_Left_20160203_132002.avi\"\n",
    "\n",
    "x_nodes = np.linspace(0,575, N+2)\n",
    "    \n",
    "middle = getMiddleWaveform(videoName, 1, False)\n",
    "coefficients = middle[2]\n",
    "y_nodes = Polynomial(coefficients, x_nodes)\n",
    "    \n",
    "initialLengths = initialLengthsFinder(x_nodes, y_nodes)\n",
    "K_arr = np.ones(N+1)/initialLengths\n",
    "\n",
    "guess = np.zeros(N)\n",
    "    \n",
    "    \n",
    "for i in [41,46,51,56,61]:\n",
    "    u = getFramePotential(videoName, i, initialLengths, K_arr,iGuess=guess)\n",
    "    print(\"Energy: \"+str(u[0]))\n",
    "    guess = u[1]"
   ]
  },
  {
   "cell_type": "markdown",
   "id": "946ab764",
   "metadata": {},
   "source": [
    "We still have a large fluctuation of energy even though the graphs don't change much."
   ]
  },
  {
   "cell_type": "markdown",
   "id": "59f346d5",
   "metadata": {},
   "source": [
    "Next Tasks:\n",
    "    \n",
    "-Plot a time evolution movie of the $V(x)$ profile.\n",
    "\n",
    "-Add noise to displacements and/or polynomial fit to determine if the marginal error from our approximations is indeed marginal or if it may be the cuase of such large fluctuations on the $U(t)$ profile.\n",
    "    \n",
    "-Investigate displacement and energy profiles between consecutive frames showing strong fluctuations."
   ]
  },
  {
   "cell_type": "markdown",
   "id": "f0d0b12c",
   "metadata": {},
   "source": [
    "We will first extract the $V(x)$ profile of a frame (and subsequently make the graph three dimensional by adding a time axis created by the movie.) Seeing as we're employing a discretization, we will plot the potential energy of of segment position, where segment position, in this case, will be dictated by the horizontal component of the midpoint of the segment. In principle, this should contain more (and at least as much) information as a plot of the neergy versus segment/node number."
   ]
  },
  {
   "cell_type": "code",
   "execution_count": 23,
   "id": "1259490c",
   "metadata": {},
   "outputs": [],
   "source": [
    "def plotFramePotential(videoName, imageNumber, initialLengths, K_arr, output = False, iGuess = np.zeros(N)):\n",
    "    \n",
    "    middle = getMiddleWaveform(videoName, imageNumber, output)\n",
    "    x_nodes = np.linspace(0,575, N+2)\n",
    "    coefficients = middle[2]\n",
    "    y_nodes = Polynomial(coefficients, x_nodes)\n",
    "    \n",
    "#     plt.figure()\n",
    "#     plt.plot(x_nodes,y_nodes)\n",
    "#     plt.show()\n",
    "    \n",
    "    displacements = minimize(potentialEnergy, iGuess, args = (x_nodes, y_nodes, initialLengths, K_arr))\n",
    "    \n",
    "#     print(displacements.x)\n",
    "\n",
    "    \n",
    "#     plt.figure(figsize=(8,6))\n",
    "#     plt.plot(x_nodes[1:-1], displacements.x)\n",
    "#     plt.title(f\"Fram: {imageNumber}\")\n",
    "#     plt.show()\n",
    "\n",
    "    new_x_nodes = np.linspace(0,575, N+2)\n",
    "    \n",
    "    for i in range(1, new_x_nodes.shape[0]-1):\n",
    "        new_x_nodes[i] = new_x_nodes[i] + displacements.x[i-1]\n",
    "    \n",
    "    new_y_nodes = Polynomial(coefficients, new_x_nodes)\n",
    "    \n",
    "    segmentMidpoints = np.zeros(N+1)\n",
    "    \n",
    "    for i in range(N+1):\n",
    "        \n",
    "        segmentMidpoints[i] = 0.5*(new_x_nodes[i]+new_x_nodes[i+1])\n",
    "    \n",
    "    \n",
    "    segmentEnergies = np.zeros(N+1)\n",
    "    \n",
    "    for i in range(N+1):\n",
    "        \n",
    "        p1 = (new_x_nodes[i], new_y_nodes[i])\n",
    "        p2 = (new_x_nodes[i+1], new_y_nodes[i+1])\n",
    "        \n",
    "        newDist = euclideanDistance(p1, p2)\n",
    "        \n",
    "        segmentEnergies[i] = 0.5 * K_arr[i] * (newDist - initialLengths[i])**2\n",
    "        \n",
    "    \n",
    "    \n",
    "    plt.figure(figsize = (12,8))\n",
    "    plt.plot(segmentMidpoints, segmentEnergies)\n",
    "    plt.title(\"Potential Profile on Frame \" + str(imageNumber))\n",
    "    plt.ylim((0,0.1))\n",
    "    plt.xlim((0,600))\n",
    "    plt.savefig(\"Potential_Profiles/\"+videoName+\"/V_x/FRAMES/\"+str(imageNumber)+\".png\")\n",
    "    plt.close()\n",
    "    \n",
    "    return displacements.x #for the next guess"
   ]
  },
  {
   "cell_type": "code",
   "execution_count": 24,
   "id": "e85ebb81",
   "metadata": {},
   "outputs": [],
   "source": [
    "def get_V_x_Frames(videoName, totalImages = 139, increment = 1):   #NO RETURN, JUST GET FIGURES\n",
    "    \n",
    "    if os.path.exists(\"Potential_Profiles/\"+videoName+\"/V_x/FRAMES/\"):\n",
    "        print(\"Already Processed.\")\n",
    "        return\n",
    "    \n",
    "    if not os.path.exists(\"Potential_Profiles/\"+videoName+\"/\"):\n",
    "        os.mkdir(\"Potential_Profiles/\"+videoName+\"/\")\n",
    "        \n",
    "    if not os.path.exists(\"Potential_Profiles/\"+videoName+\"/V_x/\"):\n",
    "        os.mkdir(\"Potential_Profiles/\"+videoName+\"/V_x/\")\n",
    "        \n",
    "    if not os.path.exists(\"Potential_Profiles/\"+videoName+\"/V_x/FRAMES/\"):\n",
    "        os.mkdir(\"Potential_Profiles/\"+videoName+\"/V_x/FRAMES/\")\n",
    "    \n",
    "    imageNumber = 1\n",
    "    \n",
    "    # First, get the initial lengths and stiffnesses.\n",
    "    \n",
    "    x_nodes = np.linspace(0,575, N+2)\n",
    "    \n",
    "    middle = getMiddleWaveform(videoName, imageNumber, False)\n",
    "    coefficients = middle[2]\n",
    "    y_nodes = Polynomial(coefficients, x_nodes)\n",
    "    \n",
    "    initialLengths = initialLengthsFinder(x_nodes, y_nodes)\n",
    "    K_arr = np.ones(N+1)/initialLengths\n",
    "    \n",
    "    # Iterate over images and record potential\n",
    "    \n",
    "    U_arr = np.zeros(totalImages)\n",
    "    iGuess = np.zeros(N)\n",
    "    \n",
    "    while imageNumber <= totalImages:\n",
    "        \n",
    "        print(f'Processing Frame: {imageNumber}')\n",
    "        newGuess = plotFramePotential(videoName, imageNumber, initialLengths, K_arr, False, iGuess)\n",
    "        imageNumber += increment\n",
    "        iGuess = newGuess\n",
    "    \n",
    "    "
   ]
  },
  {
   "cell_type": "markdown",
   "id": "39a01056",
   "metadata": {},
   "source": [
    "We can check that the functions work before properly adapting our video-generating function."
   ]
  },
  {
   "cell_type": "code",
   "execution_count": 25,
   "id": "c0392a8b",
   "metadata": {},
   "outputs": [
    {
     "name": "stdout",
     "output_type": "stream",
     "text": [
      "Processing Frame: 1\n",
      "Processing Frame: 2\n",
      "Processing Frame: 3\n"
     ]
    },
    {
     "ename": "KeyboardInterrupt",
     "evalue": "",
     "output_type": "error",
     "traceback": [
      "\u001b[0;31m---------------------------------------------------------------------------\u001b[0m",
      "\u001b[0;31mKeyboardInterrupt\u001b[0m                         Traceback (most recent call last)",
      "Input \u001b[0;32mIn [25]\u001b[0m, in \u001b[0;36m<cell line: 1>\u001b[0;34m()\u001b[0m\n\u001b[0;32m----> 1\u001b[0m \u001b[43mget_V_x_Frames\u001b[49m\u001b[43m(\u001b[49m\u001b[38;5;124;43m\"\u001b[39;49m\u001b[38;5;124;43m001BA_Left_20160203_132002.avi\u001b[39;49m\u001b[38;5;124;43m\"\u001b[39;49m\u001b[43m)\u001b[49m\n",
      "Input \u001b[0;32mIn [24]\u001b[0m, in \u001b[0;36mget_V_x_Frames\u001b[0;34m(videoName, totalImages, increment)\u001b[0m\n\u001b[1;32m     34\u001b[0m \u001b[38;5;28;01mwhile\u001b[39;00m imageNumber \u001b[38;5;241m<\u001b[39m\u001b[38;5;241m=\u001b[39m totalImages:\n\u001b[1;32m     36\u001b[0m     \u001b[38;5;28mprint\u001b[39m(\u001b[38;5;124mf\u001b[39m\u001b[38;5;124m'\u001b[39m\u001b[38;5;124mProcessing Frame: \u001b[39m\u001b[38;5;132;01m{\u001b[39;00mimageNumber\u001b[38;5;132;01m}\u001b[39;00m\u001b[38;5;124m'\u001b[39m)\n\u001b[0;32m---> 37\u001b[0m     newGuess \u001b[38;5;241m=\u001b[39m \u001b[43mplotFramePotential\u001b[49m\u001b[43m(\u001b[49m\u001b[43mvideoName\u001b[49m\u001b[43m,\u001b[49m\u001b[43m \u001b[49m\u001b[43mimageNumber\u001b[49m\u001b[43m,\u001b[49m\u001b[43m \u001b[49m\u001b[43minitialLengths\u001b[49m\u001b[43m,\u001b[49m\u001b[43m \u001b[49m\u001b[43mK_arr\u001b[49m\u001b[43m,\u001b[49m\u001b[43m \u001b[49m\u001b[38;5;28;43;01mFalse\u001b[39;49;00m\u001b[43m,\u001b[49m\u001b[43m \u001b[49m\u001b[43miGuess\u001b[49m\u001b[43m)\u001b[49m\n\u001b[1;32m     38\u001b[0m     imageNumber \u001b[38;5;241m+\u001b[39m\u001b[38;5;241m=\u001b[39m increment\n\u001b[1;32m     39\u001b[0m     iGuess \u001b[38;5;241m=\u001b[39m newGuess\n",
      "Input \u001b[0;32mIn [23]\u001b[0m, in \u001b[0;36mplotFramePotential\u001b[0;34m(videoName, imageNumber, initialLengths, K_arr, output, iGuess)\u001b[0m\n\u001b[1;32m      6\u001b[0m     y_nodes \u001b[38;5;241m=\u001b[39m Polynomial(coefficients, x_nodes)\n\u001b[1;32m      8\u001b[0m \u001b[38;5;66;03m#     plt.figure()\u001b[39;00m\n\u001b[1;32m      9\u001b[0m \u001b[38;5;66;03m#     plt.plot(x_nodes,y_nodes)\u001b[39;00m\n\u001b[1;32m     10\u001b[0m \u001b[38;5;66;03m#     plt.show()\u001b[39;00m\n\u001b[0;32m---> 12\u001b[0m     displacements \u001b[38;5;241m=\u001b[39m \u001b[43mminimize\u001b[49m\u001b[43m(\u001b[49m\u001b[43mpotentialEnergy\u001b[49m\u001b[43m,\u001b[49m\u001b[43m \u001b[49m\u001b[43miGuess\u001b[49m\u001b[43m,\u001b[49m\u001b[43m \u001b[49m\u001b[43margs\u001b[49m\u001b[43m \u001b[49m\u001b[38;5;241;43m=\u001b[39;49m\u001b[43m \u001b[49m\u001b[43m(\u001b[49m\u001b[43mx_nodes\u001b[49m\u001b[43m,\u001b[49m\u001b[43m \u001b[49m\u001b[43my_nodes\u001b[49m\u001b[43m,\u001b[49m\u001b[43m \u001b[49m\u001b[43minitialLengths\u001b[49m\u001b[43m,\u001b[49m\u001b[43m \u001b[49m\u001b[43mK_arr\u001b[49m\u001b[43m)\u001b[49m\u001b[43m)\u001b[49m\n\u001b[1;32m     14\u001b[0m \u001b[38;5;66;03m#     print(displacements.x)\u001b[39;00m\n\u001b[1;32m     15\u001b[0m \n\u001b[1;32m     16\u001b[0m     \n\u001b[0;32m   (...)\u001b[0m\n\u001b[1;32m     19\u001b[0m \u001b[38;5;66;03m#     plt.title(f\"Fram: {imageNumber}\")\u001b[39;00m\n\u001b[1;32m     20\u001b[0m \u001b[38;5;66;03m#     plt.show()\u001b[39;00m\n\u001b[1;32m     22\u001b[0m     new_x_nodes \u001b[38;5;241m=\u001b[39m np\u001b[38;5;241m.\u001b[39mlinspace(\u001b[38;5;241m0\u001b[39m,\u001b[38;5;241m575\u001b[39m, N\u001b[38;5;241m+\u001b[39m\u001b[38;5;241m2\u001b[39m)\n",
      "File \u001b[0;32m/opt/anaconda3/lib/python3.9/site-packages/scipy/optimize/_minimize.py:618\u001b[0m, in \u001b[0;36mminimize\u001b[0;34m(fun, x0, args, method, jac, hess, hessp, bounds, constraints, tol, callback, options)\u001b[0m\n\u001b[1;32m    616\u001b[0m     \u001b[38;5;28;01mreturn\u001b[39;00m _minimize_cg(fun, x0, args, jac, callback, \u001b[38;5;241m*\u001b[39m\u001b[38;5;241m*\u001b[39moptions)\n\u001b[1;32m    617\u001b[0m \u001b[38;5;28;01melif\u001b[39;00m meth \u001b[38;5;241m==\u001b[39m \u001b[38;5;124m'\u001b[39m\u001b[38;5;124mbfgs\u001b[39m\u001b[38;5;124m'\u001b[39m:\n\u001b[0;32m--> 618\u001b[0m     \u001b[38;5;28;01mreturn\u001b[39;00m \u001b[43m_minimize_bfgs\u001b[49m\u001b[43m(\u001b[49m\u001b[43mfun\u001b[49m\u001b[43m,\u001b[49m\u001b[43m \u001b[49m\u001b[43mx0\u001b[49m\u001b[43m,\u001b[49m\u001b[43m \u001b[49m\u001b[43margs\u001b[49m\u001b[43m,\u001b[49m\u001b[43m \u001b[49m\u001b[43mjac\u001b[49m\u001b[43m,\u001b[49m\u001b[43m \u001b[49m\u001b[43mcallback\u001b[49m\u001b[43m,\u001b[49m\u001b[43m \u001b[49m\u001b[38;5;241;43m*\u001b[39;49m\u001b[38;5;241;43m*\u001b[39;49m\u001b[43moptions\u001b[49m\u001b[43m)\u001b[49m\n\u001b[1;32m    619\u001b[0m \u001b[38;5;28;01melif\u001b[39;00m meth \u001b[38;5;241m==\u001b[39m \u001b[38;5;124m'\u001b[39m\u001b[38;5;124mnewton-cg\u001b[39m\u001b[38;5;124m'\u001b[39m:\n\u001b[1;32m    620\u001b[0m     \u001b[38;5;28;01mreturn\u001b[39;00m _minimize_newtoncg(fun, x0, args, jac, hess, hessp, callback,\n\u001b[1;32m    621\u001b[0m                               \u001b[38;5;241m*\u001b[39m\u001b[38;5;241m*\u001b[39moptions)\n",
      "File \u001b[0;32m/opt/anaconda3/lib/python3.9/site-packages/scipy/optimize/optimize.py:1235\u001b[0m, in \u001b[0;36m_minimize_bfgs\u001b[0;34m(fun, x0, args, jac, callback, gtol, norm, eps, maxiter, disp, return_all, finite_diff_rel_step, **unknown_options)\u001b[0m\n\u001b[1;32m   1232\u001b[0m pk \u001b[38;5;241m=\u001b[39m \u001b[38;5;241m-\u001b[39mnp\u001b[38;5;241m.\u001b[39mdot(Hk, gfk)\n\u001b[1;32m   1233\u001b[0m \u001b[38;5;28;01mtry\u001b[39;00m:\n\u001b[1;32m   1234\u001b[0m     alpha_k, fc, gc, old_fval, old_old_fval, gfkp1 \u001b[38;5;241m=\u001b[39m \\\n\u001b[0;32m-> 1235\u001b[0m              \u001b[43m_line_search_wolfe12\u001b[49m\u001b[43m(\u001b[49m\u001b[43mf\u001b[49m\u001b[43m,\u001b[49m\u001b[43m \u001b[49m\u001b[43mmyfprime\u001b[49m\u001b[43m,\u001b[49m\u001b[43m \u001b[49m\u001b[43mxk\u001b[49m\u001b[43m,\u001b[49m\u001b[43m \u001b[49m\u001b[43mpk\u001b[49m\u001b[43m,\u001b[49m\u001b[43m \u001b[49m\u001b[43mgfk\u001b[49m\u001b[43m,\u001b[49m\n\u001b[1;32m   1236\u001b[0m \u001b[43m                                  \u001b[49m\u001b[43mold_fval\u001b[49m\u001b[43m,\u001b[49m\u001b[43m \u001b[49m\u001b[43mold_old_fval\u001b[49m\u001b[43m,\u001b[49m\u001b[43m \u001b[49m\u001b[43mamin\u001b[49m\u001b[38;5;241;43m=\u001b[39;49m\u001b[38;5;241;43m1e-100\u001b[39;49m\u001b[43m,\u001b[49m\u001b[43m \u001b[49m\u001b[43mamax\u001b[49m\u001b[38;5;241;43m=\u001b[39;49m\u001b[38;5;241;43m1e100\u001b[39;49m\u001b[43m)\u001b[49m\n\u001b[1;32m   1237\u001b[0m \u001b[38;5;28;01mexcept\u001b[39;00m _LineSearchError:\n\u001b[1;32m   1238\u001b[0m     \u001b[38;5;66;03m# Line search failed to find a better solution.\u001b[39;00m\n\u001b[1;32m   1239\u001b[0m     warnflag \u001b[38;5;241m=\u001b[39m \u001b[38;5;241m2\u001b[39m\n",
      "File \u001b[0;32m/opt/anaconda3/lib/python3.9/site-packages/scipy/optimize/optimize.py:1005\u001b[0m, in \u001b[0;36m_line_search_wolfe12\u001b[0;34m(f, fprime, xk, pk, gfk, old_fval, old_old_fval, **kwargs)\u001b[0m\n\u001b[1;32m    991\u001b[0m \u001b[38;5;124;03m\"\"\"\u001b[39;00m\n\u001b[1;32m    992\u001b[0m \u001b[38;5;124;03mSame as line_search_wolfe1, but fall back to line_search_wolfe2 if\u001b[39;00m\n\u001b[1;32m    993\u001b[0m \u001b[38;5;124;03msuitable step length is not found, and raise an exception if a\u001b[39;00m\n\u001b[0;32m   (...)\u001b[0m\n\u001b[1;32m   1000\u001b[0m \n\u001b[1;32m   1001\u001b[0m \u001b[38;5;124;03m\"\"\"\u001b[39;00m\n\u001b[1;32m   1003\u001b[0m extra_condition \u001b[38;5;241m=\u001b[39m kwargs\u001b[38;5;241m.\u001b[39mpop(\u001b[38;5;124m'\u001b[39m\u001b[38;5;124mextra_condition\u001b[39m\u001b[38;5;124m'\u001b[39m, \u001b[38;5;28;01mNone\u001b[39;00m)\n\u001b[0;32m-> 1005\u001b[0m ret \u001b[38;5;241m=\u001b[39m \u001b[43mline_search_wolfe1\u001b[49m\u001b[43m(\u001b[49m\u001b[43mf\u001b[49m\u001b[43m,\u001b[49m\u001b[43m \u001b[49m\u001b[43mfprime\u001b[49m\u001b[43m,\u001b[49m\u001b[43m \u001b[49m\u001b[43mxk\u001b[49m\u001b[43m,\u001b[49m\u001b[43m \u001b[49m\u001b[43mpk\u001b[49m\u001b[43m,\u001b[49m\u001b[43m \u001b[49m\u001b[43mgfk\u001b[49m\u001b[43m,\u001b[49m\n\u001b[1;32m   1006\u001b[0m \u001b[43m                         \u001b[49m\u001b[43mold_fval\u001b[49m\u001b[43m,\u001b[49m\u001b[43m \u001b[49m\u001b[43mold_old_fval\u001b[49m\u001b[43m,\u001b[49m\n\u001b[1;32m   1007\u001b[0m \u001b[43m                         \u001b[49m\u001b[38;5;241;43m*\u001b[39;49m\u001b[38;5;241;43m*\u001b[39;49m\u001b[43mkwargs\u001b[49m\u001b[43m)\u001b[49m\n\u001b[1;32m   1009\u001b[0m \u001b[38;5;28;01mif\u001b[39;00m ret[\u001b[38;5;241m0\u001b[39m] \u001b[38;5;129;01mis\u001b[39;00m \u001b[38;5;129;01mnot\u001b[39;00m \u001b[38;5;28;01mNone\u001b[39;00m \u001b[38;5;129;01mand\u001b[39;00m extra_condition \u001b[38;5;129;01mis\u001b[39;00m \u001b[38;5;129;01mnot\u001b[39;00m \u001b[38;5;28;01mNone\u001b[39;00m:\n\u001b[1;32m   1010\u001b[0m     xp1 \u001b[38;5;241m=\u001b[39m xk \u001b[38;5;241m+\u001b[39m ret[\u001b[38;5;241m0\u001b[39m] \u001b[38;5;241m*\u001b[39m pk\n",
      "File \u001b[0;32m/opt/anaconda3/lib/python3.9/site-packages/scipy/optimize/linesearch.py:96\u001b[0m, in \u001b[0;36mline_search_wolfe1\u001b[0;34m(f, fprime, xk, pk, gfk, old_fval, old_old_fval, args, c1, c2, amax, amin, xtol)\u001b[0m\n\u001b[1;32m     92\u001b[0m     \u001b[38;5;28;01mreturn\u001b[39;00m np\u001b[38;5;241m.\u001b[39mdot(gval[\u001b[38;5;241m0\u001b[39m], pk)\n\u001b[1;32m     94\u001b[0m derphi0 \u001b[38;5;241m=\u001b[39m np\u001b[38;5;241m.\u001b[39mdot(gfk, pk)\n\u001b[0;32m---> 96\u001b[0m stp, fval, old_fval \u001b[38;5;241m=\u001b[39m \u001b[43mscalar_search_wolfe1\u001b[49m\u001b[43m(\u001b[49m\n\u001b[1;32m     97\u001b[0m \u001b[43m        \u001b[49m\u001b[43mphi\u001b[49m\u001b[43m,\u001b[49m\u001b[43m \u001b[49m\u001b[43mderphi\u001b[49m\u001b[43m,\u001b[49m\u001b[43m \u001b[49m\u001b[43mold_fval\u001b[49m\u001b[43m,\u001b[49m\u001b[43m \u001b[49m\u001b[43mold_old_fval\u001b[49m\u001b[43m,\u001b[49m\u001b[43m \u001b[49m\u001b[43mderphi0\u001b[49m\u001b[43m,\u001b[49m\n\u001b[1;32m     98\u001b[0m \u001b[43m        \u001b[49m\u001b[43mc1\u001b[49m\u001b[38;5;241;43m=\u001b[39;49m\u001b[43mc1\u001b[49m\u001b[43m,\u001b[49m\u001b[43m \u001b[49m\u001b[43mc2\u001b[49m\u001b[38;5;241;43m=\u001b[39;49m\u001b[43mc2\u001b[49m\u001b[43m,\u001b[49m\u001b[43m \u001b[49m\u001b[43mamax\u001b[49m\u001b[38;5;241;43m=\u001b[39;49m\u001b[43mamax\u001b[49m\u001b[43m,\u001b[49m\u001b[43m \u001b[49m\u001b[43mamin\u001b[49m\u001b[38;5;241;43m=\u001b[39;49m\u001b[43mamin\u001b[49m\u001b[43m,\u001b[49m\u001b[43m \u001b[49m\u001b[43mxtol\u001b[49m\u001b[38;5;241;43m=\u001b[39;49m\u001b[43mxtol\u001b[49m\u001b[43m)\u001b[49m\n\u001b[1;32m    100\u001b[0m \u001b[38;5;28;01mreturn\u001b[39;00m stp, fc[\u001b[38;5;241m0\u001b[39m], gc[\u001b[38;5;241m0\u001b[39m], fval, old_fval, gval[\u001b[38;5;241m0\u001b[39m]\n",
      "File \u001b[0;32m/opt/anaconda3/lib/python3.9/site-packages/scipy/optimize/linesearch.py:173\u001b[0m, in \u001b[0;36mscalar_search_wolfe1\u001b[0;34m(phi, derphi, phi0, old_phi0, derphi0, c1, c2, amax, amin, xtol)\u001b[0m\n\u001b[1;32m    171\u001b[0m     alpha1 \u001b[38;5;241m=\u001b[39m stp\n\u001b[1;32m    172\u001b[0m     phi1 \u001b[38;5;241m=\u001b[39m phi(stp)\n\u001b[0;32m--> 173\u001b[0m     derphi1 \u001b[38;5;241m=\u001b[39m \u001b[43mderphi\u001b[49m\u001b[43m(\u001b[49m\u001b[43mstp\u001b[49m\u001b[43m)\u001b[49m\n\u001b[1;32m    174\u001b[0m \u001b[38;5;28;01melse\u001b[39;00m:\n\u001b[1;32m    175\u001b[0m     \u001b[38;5;28;01mbreak\u001b[39;00m\n",
      "File \u001b[0;32m/opt/anaconda3/lib/python3.9/site-packages/scipy/optimize/linesearch.py:87\u001b[0m, in \u001b[0;36mline_search_wolfe1.<locals>.derphi\u001b[0;34m(s)\u001b[0m\n\u001b[1;32m     86\u001b[0m \u001b[38;5;28;01mdef\u001b[39;00m \u001b[38;5;21mderphi\u001b[39m(s):\n\u001b[0;32m---> 87\u001b[0m     gval[\u001b[38;5;241m0\u001b[39m] \u001b[38;5;241m=\u001b[39m \u001b[43mfprime\u001b[49m\u001b[43m(\u001b[49m\u001b[43mxk\u001b[49m\u001b[43m \u001b[49m\u001b[38;5;241;43m+\u001b[39;49m\u001b[43m \u001b[49m\u001b[43ms\u001b[49m\u001b[38;5;241;43m*\u001b[39;49m\u001b[43mpk\u001b[49m\u001b[43m,\u001b[49m\u001b[43m \u001b[49m\u001b[38;5;241;43m*\u001b[39;49m\u001b[43mnewargs\u001b[49m\u001b[43m)\u001b[49m\n\u001b[1;32m     88\u001b[0m     \u001b[38;5;28;01mif\u001b[39;00m gradient:\n\u001b[1;32m     89\u001b[0m         gc[\u001b[38;5;241m0\u001b[39m] \u001b[38;5;241m+\u001b[39m\u001b[38;5;241m=\u001b[39m \u001b[38;5;241m1\u001b[39m\n",
      "File \u001b[0;32m/opt/anaconda3/lib/python3.9/site-packages/scipy/optimize/_differentiable_functions.py:255\u001b[0m, in \u001b[0;36mScalarFunction.grad\u001b[0;34m(self, x)\u001b[0m\n\u001b[1;32m    253\u001b[0m \u001b[38;5;28;01mif\u001b[39;00m \u001b[38;5;129;01mnot\u001b[39;00m np\u001b[38;5;241m.\u001b[39marray_equal(x, \u001b[38;5;28mself\u001b[39m\u001b[38;5;241m.\u001b[39mx):\n\u001b[1;32m    254\u001b[0m     \u001b[38;5;28mself\u001b[39m\u001b[38;5;241m.\u001b[39m_update_x_impl(x)\n\u001b[0;32m--> 255\u001b[0m \u001b[38;5;28;43mself\u001b[39;49m\u001b[38;5;241;43m.\u001b[39;49m\u001b[43m_update_grad\u001b[49m\u001b[43m(\u001b[49m\u001b[43m)\u001b[49m\n\u001b[1;32m    256\u001b[0m \u001b[38;5;28;01mreturn\u001b[39;00m \u001b[38;5;28mself\u001b[39m\u001b[38;5;241m.\u001b[39mg\n",
      "File \u001b[0;32m/opt/anaconda3/lib/python3.9/site-packages/scipy/optimize/_differentiable_functions.py:238\u001b[0m, in \u001b[0;36mScalarFunction._update_grad\u001b[0;34m(self)\u001b[0m\n\u001b[1;32m    236\u001b[0m \u001b[38;5;28;01mdef\u001b[39;00m \u001b[38;5;21m_update_grad\u001b[39m(\u001b[38;5;28mself\u001b[39m):\n\u001b[1;32m    237\u001b[0m     \u001b[38;5;28;01mif\u001b[39;00m \u001b[38;5;129;01mnot\u001b[39;00m \u001b[38;5;28mself\u001b[39m\u001b[38;5;241m.\u001b[39mg_updated:\n\u001b[0;32m--> 238\u001b[0m         \u001b[38;5;28;43mself\u001b[39;49m\u001b[38;5;241;43m.\u001b[39;49m\u001b[43m_update_grad_impl\u001b[49m\u001b[43m(\u001b[49m\u001b[43m)\u001b[49m\n\u001b[1;32m    239\u001b[0m         \u001b[38;5;28mself\u001b[39m\u001b[38;5;241m.\u001b[39mg_updated \u001b[38;5;241m=\u001b[39m \u001b[38;5;28;01mTrue\u001b[39;00m\n",
      "File \u001b[0;32m/opt/anaconda3/lib/python3.9/site-packages/scipy/optimize/_differentiable_functions.py:155\u001b[0m, in \u001b[0;36mScalarFunction.__init__.<locals>.update_grad\u001b[0;34m()\u001b[0m\n\u001b[1;32m    153\u001b[0m \u001b[38;5;28mself\u001b[39m\u001b[38;5;241m.\u001b[39m_update_fun()\n\u001b[1;32m    154\u001b[0m \u001b[38;5;28mself\u001b[39m\u001b[38;5;241m.\u001b[39mngev \u001b[38;5;241m+\u001b[39m\u001b[38;5;241m=\u001b[39m \u001b[38;5;241m1\u001b[39m\n\u001b[0;32m--> 155\u001b[0m \u001b[38;5;28mself\u001b[39m\u001b[38;5;241m.\u001b[39mg \u001b[38;5;241m=\u001b[39m \u001b[43mapprox_derivative\u001b[49m\u001b[43m(\u001b[49m\u001b[43mfun_wrapped\u001b[49m\u001b[43m,\u001b[49m\u001b[43m \u001b[49m\u001b[38;5;28;43mself\u001b[39;49m\u001b[38;5;241;43m.\u001b[39;49m\u001b[43mx\u001b[49m\u001b[43m,\u001b[49m\u001b[43m \u001b[49m\u001b[43mf0\u001b[49m\u001b[38;5;241;43m=\u001b[39;49m\u001b[38;5;28;43mself\u001b[39;49m\u001b[38;5;241;43m.\u001b[39;49m\u001b[43mf\u001b[49m\u001b[43m,\u001b[49m\n\u001b[1;32m    156\u001b[0m \u001b[43m                           \u001b[49m\u001b[38;5;241;43m*\u001b[39;49m\u001b[38;5;241;43m*\u001b[39;49m\u001b[43mfinite_diff_options\u001b[49m\u001b[43m)\u001b[49m\n",
      "File \u001b[0;32m/opt/anaconda3/lib/python3.9/site-packages/scipy/optimize/_numdiff.py:486\u001b[0m, in \u001b[0;36mapprox_derivative\u001b[0;34m(fun, x0, method, rel_step, abs_step, f0, bounds, sparsity, as_linear_operator, args, kwargs)\u001b[0m\n\u001b[1;32m    483\u001b[0m     use_one_sided \u001b[38;5;241m=\u001b[39m \u001b[38;5;28;01mFalse\u001b[39;00m\n\u001b[1;32m    485\u001b[0m \u001b[38;5;28;01mif\u001b[39;00m sparsity \u001b[38;5;129;01mis\u001b[39;00m \u001b[38;5;28;01mNone\u001b[39;00m:\n\u001b[0;32m--> 486\u001b[0m     \u001b[38;5;28;01mreturn\u001b[39;00m \u001b[43m_dense_difference\u001b[49m\u001b[43m(\u001b[49m\u001b[43mfun_wrapped\u001b[49m\u001b[43m,\u001b[49m\u001b[43m \u001b[49m\u001b[43mx0\u001b[49m\u001b[43m,\u001b[49m\u001b[43m \u001b[49m\u001b[43mf0\u001b[49m\u001b[43m,\u001b[49m\u001b[43m \u001b[49m\u001b[43mh\u001b[49m\u001b[43m,\u001b[49m\n\u001b[1;32m    487\u001b[0m \u001b[43m                             \u001b[49m\u001b[43muse_one_sided\u001b[49m\u001b[43m,\u001b[49m\u001b[43m \u001b[49m\u001b[43mmethod\u001b[49m\u001b[43m)\u001b[49m\n\u001b[1;32m    488\u001b[0m \u001b[38;5;28;01melse\u001b[39;00m:\n\u001b[1;32m    489\u001b[0m     \u001b[38;5;28;01mif\u001b[39;00m \u001b[38;5;129;01mnot\u001b[39;00m issparse(sparsity) \u001b[38;5;129;01mand\u001b[39;00m \u001b[38;5;28mlen\u001b[39m(sparsity) \u001b[38;5;241m==\u001b[39m \u001b[38;5;241m2\u001b[39m:\n",
      "File \u001b[0;32m/opt/anaconda3/lib/python3.9/site-packages/scipy/optimize/_numdiff.py:557\u001b[0m, in \u001b[0;36m_dense_difference\u001b[0;34m(fun, x0, f0, h, use_one_sided, method)\u001b[0m\n\u001b[1;32m    555\u001b[0m     x \u001b[38;5;241m=\u001b[39m x0 \u001b[38;5;241m+\u001b[39m h_vecs[i]\n\u001b[1;32m    556\u001b[0m     dx \u001b[38;5;241m=\u001b[39m x[i] \u001b[38;5;241m-\u001b[39m x0[i]  \u001b[38;5;66;03m# Recompute dx as exactly representable number.\u001b[39;00m\n\u001b[0;32m--> 557\u001b[0m     df \u001b[38;5;241m=\u001b[39m \u001b[43mfun\u001b[49m\u001b[43m(\u001b[49m\u001b[43mx\u001b[49m\u001b[43m)\u001b[49m \u001b[38;5;241m-\u001b[39m f0\n\u001b[1;32m    558\u001b[0m \u001b[38;5;28;01melif\u001b[39;00m method \u001b[38;5;241m==\u001b[39m \u001b[38;5;124m'\u001b[39m\u001b[38;5;124m3-point\u001b[39m\u001b[38;5;124m'\u001b[39m \u001b[38;5;129;01mand\u001b[39;00m use_one_sided[i]:\n\u001b[1;32m    559\u001b[0m     x1 \u001b[38;5;241m=\u001b[39m x0 \u001b[38;5;241m+\u001b[39m h_vecs[i]\n",
      "File \u001b[0;32m/opt/anaconda3/lib/python3.9/site-packages/scipy/optimize/_numdiff.py:437\u001b[0m, in \u001b[0;36mapprox_derivative.<locals>.fun_wrapped\u001b[0;34m(x)\u001b[0m\n\u001b[1;32m    436\u001b[0m \u001b[38;5;28;01mdef\u001b[39;00m \u001b[38;5;21mfun_wrapped\u001b[39m(x):\n\u001b[0;32m--> 437\u001b[0m     f \u001b[38;5;241m=\u001b[39m np\u001b[38;5;241m.\u001b[39matleast_1d(\u001b[43mfun\u001b[49m\u001b[43m(\u001b[49m\u001b[43mx\u001b[49m\u001b[43m,\u001b[49m\u001b[43m \u001b[49m\u001b[38;5;241;43m*\u001b[39;49m\u001b[43margs\u001b[49m\u001b[43m,\u001b[49m\u001b[43m \u001b[49m\u001b[38;5;241;43m*\u001b[39;49m\u001b[38;5;241;43m*\u001b[39;49m\u001b[43mkwargs\u001b[49m\u001b[43m)\u001b[49m)\n\u001b[1;32m    438\u001b[0m     \u001b[38;5;28;01mif\u001b[39;00m f\u001b[38;5;241m.\u001b[39mndim \u001b[38;5;241m>\u001b[39m \u001b[38;5;241m1\u001b[39m:\n\u001b[1;32m    439\u001b[0m         \u001b[38;5;28;01mraise\u001b[39;00m \u001b[38;5;167;01mRuntimeError\u001b[39;00m(\u001b[38;5;124m\"\u001b[39m\u001b[38;5;124m`fun` return value has \u001b[39m\u001b[38;5;124m\"\u001b[39m\n\u001b[1;32m    440\u001b[0m                            \u001b[38;5;124m\"\u001b[39m\u001b[38;5;124mmore than 1 dimension.\u001b[39m\u001b[38;5;124m\"\u001b[39m)\n",
      "File \u001b[0;32m/opt/anaconda3/lib/python3.9/site-packages/scipy/optimize/_differentiable_functions.py:134\u001b[0m, in \u001b[0;36mScalarFunction.__init__.<locals>.fun_wrapped\u001b[0;34m(x)\u001b[0m\n\u001b[1;32m    130\u001b[0m \u001b[38;5;28mself\u001b[39m\u001b[38;5;241m.\u001b[39mnfev \u001b[38;5;241m+\u001b[39m\u001b[38;5;241m=\u001b[39m \u001b[38;5;241m1\u001b[39m\n\u001b[1;32m    131\u001b[0m \u001b[38;5;66;03m# Send a copy because the user may overwrite it.\u001b[39;00m\n\u001b[1;32m    132\u001b[0m \u001b[38;5;66;03m# Overwriting results in undefined behaviour because\u001b[39;00m\n\u001b[1;32m    133\u001b[0m \u001b[38;5;66;03m# fun(self.x) will change self.x, with the two no longer linked.\u001b[39;00m\n\u001b[0;32m--> 134\u001b[0m \u001b[38;5;28;01mreturn\u001b[39;00m \u001b[43mfun\u001b[49m\u001b[43m(\u001b[49m\u001b[43mnp\u001b[49m\u001b[38;5;241;43m.\u001b[39;49m\u001b[43mcopy\u001b[49m\u001b[43m(\u001b[49m\u001b[43mx\u001b[49m\u001b[43m)\u001b[49m\u001b[43m,\u001b[49m\u001b[43m \u001b[49m\u001b[38;5;241;43m*\u001b[39;49m\u001b[43margs\u001b[49m\u001b[43m)\u001b[49m\n",
      "Input \u001b[0;32mIn [8]\u001b[0m, in \u001b[0;36mpotentialEnergy\u001b[0;34m(u_i, x_0, y_i, lengths, K)\u001b[0m\n\u001b[1;32m      4\u001b[0m x \u001b[38;5;241m=\u001b[39m x_0\n\u001b[1;32m      5\u001b[0m y \u001b[38;5;241m=\u001b[39m y_i\n\u001b[0;32m----> 6\u001b[0m u \u001b[38;5;241m=\u001b[39m \u001b[43mnp\u001b[49m\u001b[38;5;241m.\u001b[39mzeros(N\u001b[38;5;241m+\u001b[39m\u001b[38;5;241m2\u001b[39m)\n\u001b[1;32m      8\u001b[0m \u001b[38;5;28;01mfor\u001b[39;00m j \u001b[38;5;129;01min\u001b[39;00m \u001b[38;5;28mrange\u001b[39m(u\u001b[38;5;241m.\u001b[39mshape[\u001b[38;5;241m0\u001b[39m]\u001b[38;5;241m-\u001b[39m\u001b[38;5;241m2\u001b[39m):\n\u001b[1;32m      9\u001b[0m     u[j\u001b[38;5;241m+\u001b[39m\u001b[38;5;241m1\u001b[39m] \u001b[38;5;241m=\u001b[39m u_i[j]\n",
      "\u001b[0;31mKeyboardInterrupt\u001b[0m: "
     ]
    }
   ],
   "source": [
    "get_V_x_Frames(\"001BA_Left_20160203_132002.avi\")"
   ]
  },
  {
   "cell_type": "code",
   "execution_count": 26,
   "id": "6d4682ef",
   "metadata": {},
   "outputs": [],
   "source": [
    "def formattedImageCreator_V_x(videoName):\n",
    "    \n",
    "    if os.path.exists(\"Potential_Profiles/\"+videoName+\"/V_x/FRAMES_RESIZED/\"):\n",
    "        print(\"Already Processed.\")\n",
    "        return\n",
    "    \n",
    "    os.mkdir(\"Potential_Profiles/\"+videoName+\"/V_x/FRAMES_RESIZED/\")\n",
    "    \n",
    "    path = \"Potential_Profiles/\"+videoName+\"/V_x/FRAMES\"\n",
    "    mean_height = 0\n",
    "    mean_width = 0\n",
    "  \n",
    "    num_of_images = len(os.listdir(path))\n",
    "    \n",
    "    for file in os.listdir(path): \n",
    "        im = Image.open(os.path.join(path, file)) \n",
    "        width, height = im.size \n",
    "        mean_width += width \n",
    "        mean_height += height\n",
    "    \n",
    "    mean_width = int(mean_width / num_of_images) \n",
    "    mean_height = int(mean_height / num_of_images)\n",
    "    \n",
    "    imageIterator = 1\n",
    "    \n",
    "    while imageIterator <= num_of_images:\n",
    "        imageName = str(imageIterator) + \".png\"\n",
    "        im = Image.open(os.path.join(path, imageName))\n",
    "        \n",
    "        width, height = im.size \n",
    "        \n",
    "        # resizing  \n",
    "        imResize = im.resize((mean_width, mean_height), Image.ANTIALIAS)  \n",
    "        imResize.save( \"Potential_Profiles/\"+videoName+\"/V_x/FRAMES_RESIZED/\"+str(imageIterator)+\".png\", quality = 95) # setting quality\n",
    "        imageIterator+=1\n",
    "    "
   ]
  },
  {
   "cell_type": "code",
   "execution_count": 27,
   "id": "93131202",
   "metadata": {},
   "outputs": [],
   "source": [
    "def generate_video_V_x(videoName):\n",
    "    \n",
    "    if os.path.exists(\"Potential_Profiles/\"+videoName+\"/V_x/\"+\"V_x_evolution.mp4\"):\n",
    "        print(\"Already processed.\")\n",
    "        return\n",
    "    \n",
    "    \n",
    "    image_folder = \"Potential_Profiles/\"+videoName+\"/V_x/\"+\"FRAMES_RESIZED\"\n",
    "    video_name = \"Potential_Profiles/\"+videoName+\"/V_x/\"+\"V_x_evolution.mp4\"\n",
    "    \n",
    "    #must create the image array\n",
    "    \n",
    "    num_of_images = len(os.listdir(image_folder))\n",
    "    \n",
    "    imageIterator = 1\n",
    "    images=[]\n",
    "    \n",
    "    while imageIterator <= num_of_images:\n",
    "        imageName = os.path.join(image_folder, str(imageIterator)+\".png\")\n",
    "        images.append(imageName)\n",
    "        imageIterator+=1\n",
    "    #print(images)\n",
    "    \n",
    "        \n",
    "    frame = cv2.imread(images[0]) \n",
    "  \n",
    "    # setting the frame width, height width \n",
    "    # the width, height of first image \n",
    "    height, width, layers = frame.shape   \n",
    "    \n",
    "    video = cv2.VideoWriter(video_name,0x7634706d , 5, (width, height))  \n",
    "  \n",
    "    # Appending the images to the video one by one \n",
    "    for image in images:  \n",
    "        video.write(cv2.imread(image))  \n",
    "      \n",
    "    # Deallocating memories taken for window creation \n",
    "    cv2.destroyAllWindows()  \n",
    "    video.release()  # releasing the video generated"
   ]
  },
  {
   "cell_type": "markdown",
   "id": "f2fadec7",
   "metadata": {},
   "source": [
    "We generate the movie. This could hint at any potential localization of potential energy, which in turn could point to underlying issues in our calculations. It will also highlight the \"problematic\" frames."
   ]
  },
  {
   "cell_type": "code",
   "execution_count": null,
   "id": "736977ea",
   "metadata": {},
   "outputs": [],
   "source": [
    "formattedImageCreator_V_x(\"001BA_Left_20160203_132002.avi\")"
   ]
  },
  {
   "cell_type": "code",
   "execution_count": null,
   "id": "ccce84bc",
   "metadata": {},
   "outputs": [],
   "source": [
    "generate_video_V_x(\"001BA_Left_20160203_132002.avi\")"
   ]
  },
  {
   "cell_type": "markdown",
   "id": "5ad2d833",
   "metadata": {},
   "source": [
    "Indeed, the evolution is not too smooth, and we have a serious localization of potential energy at the boundaries, which are problematic to start with as a result of the video quality and the amount of processing undergone by the data."
   ]
  },
  {
   "cell_type": "markdown",
   "id": "a7a3c2a3",
   "metadata": {},
   "source": [
    "We still do not know if the issue is from our fit or the movie, though our waveform evolution looks fine. To this end, we will choose a frame, check the potential, apply noise, and refetch the potential to see how it has changed. Ideally, we do this for all of the frames, but we will start with one."
   ]
  },
  {
   "cell_type": "code",
   "execution_count": 28,
   "id": "6a299b19",
   "metadata": {},
   "outputs": [],
   "source": [
    "def noise(x, maxP=1):\n",
    "    chg = np.zeros(x.shape[0])\n",
    "    for i in range(chg.shape[0]):\n",
    "        chg[i] = 1+random.uniform(-maxP,maxP)/10\n",
    "    return x*chg      "
   ]
  },
  {
   "cell_type": "markdown",
   "id": "cc1d51cd",
   "metadata": {},
   "source": [
    "We postpone the noise test. Instead, we are going to run tests on a cornea that deforms until it is a straight line and observe the energy versus horizontal position profile. We will then try to work with the upper waveform and to try and see if we get a clearer signal."
   ]
  },
  {
   "cell_type": "markdown",
   "id": "f3c2e397",
   "metadata": {},
   "source": [
    "We do this on a new notebook for clarity."
   ]
  },
  {
   "cell_type": "markdown",
   "id": "1eee1065",
   "metadata": {},
   "source": [
    "## Testing functions - Ignorable (Moved to Script Upon Validation)"
   ]
  }
 ],
 "metadata": {
  "kernelspec": {
   "display_name": "Python 3 (ipykernel)",
   "language": "python",
   "name": "python3"
  },
  "language_info": {
   "codemirror_mode": {
    "name": "ipython",
    "version": 3
   },
   "file_extension": ".py",
   "mimetype": "text/x-python",
   "name": "python",
   "nbconvert_exporter": "python",
   "pygments_lexer": "ipython3",
   "version": "3.9.12"
  }
 },
 "nbformat": 4,
 "nbformat_minor": 5
}
