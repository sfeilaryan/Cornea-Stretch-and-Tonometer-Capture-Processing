{
 "cells": [
  {
   "cell_type": "markdown",
   "metadata": {},
   "source": [
    "# Objectives"
   ]
  },
  {
   "cell_type": "markdown",
   "metadata": {},
   "source": [
    "In this notebook, we work to implement the local fitting scheme but fetching the true vertical locations at the preset x-locations and working with them, only performing a local fit at the end to get the node's final vertical position once its horizontal displacement has been identified.\n",
    "\n",
    "The easiest way to do this is to choose x-nodes for which the waveform fetching function can directly give the corresponding vertical position; this requires us to put x-nodes on whole numbers between 0 and 576 rather than a numpy.linspace application to preset the x-nodes."
   ]
  },
  {
   "cell_type": "code",
   "execution_count": 1,
   "metadata": {},
   "outputs": [
    {
     "name": "stderr",
     "output_type": "stream",
     "text": [
      "/opt/anaconda3/lib/python3.9/site-packages/scipy/__init__.py:146: UserWarning: A NumPy version >=1.16.5 and <1.23.0 is required for this version of SciPy (detected version 1.26.4\n",
      "  warnings.warn(f\"A NumPy version >={np_minversion} and <{np_maxversion}\"\n"
     ]
    }
   ],
   "source": [
    "import numpy as np\n",
    "import utils\n",
    "import evolutionTools as evt\n",
    "import cv2\n",
    "from scipy.optimize import minimize\n",
    "import pandas as pd\n",
    "import matplotlib.pyplot as plt\n",
    "from copy import deepcopy"
   ]
  },
  {
   "cell_type": "code",
   "execution_count": 2,
   "metadata": {},
   "outputs": [],
   "source": [
    "def place_x_nodes(interval, n_nodes):\n",
    "    start, end = interval\n",
    "    N = n_nodes\n",
    "    if N == 1:\n",
    "        return [start]\n",
    "    elif N == 2:\n",
    "        return [start, end]\n",
    "    \n",
    "    step = (end - start) // (N - 1)\n",
    "    \n",
    "    # Generate nodes\n",
    "    nodes = [start + i * step for i in range(N)]\n",
    "    \n",
    "    # Ensure the last element is exactly the end\n",
    "    nodes[-1] = end\n",
    "    \n",
    "    return np.array(nodes)"
   ]
  },
  {
   "cell_type": "code",
   "execution_count": 3,
   "metadata": {},
   "outputs": [
    {
     "data": {
      "text/plain": [
       "array([  0,  11,  22,  33,  44,  55,  66,  77,  88,  99, 110, 121, 132,\n",
       "       143, 154, 165, 176, 187, 198, 209, 220, 231, 242, 253, 264, 275,\n",
       "       286, 297, 308, 319, 330, 341, 352, 363, 374, 385, 396, 407, 418,\n",
       "       429, 440, 451, 462, 473, 484, 495, 506, 517, 528, 575])"
      ]
     },
     "execution_count": 3,
     "metadata": {},
     "output_type": "execute_result"
    }
   ],
   "source": [
    "place_x_nodes((0, 575), 50)"
   ]
  },
  {
   "cell_type": "markdown",
   "metadata": {},
   "source": [
    "We now tweak the waveform-fetching function to avoid fitting before solving for the unknown displacements."
   ]
  },
  {
   "cell_type": "code",
   "execution_count": 4,
   "metadata": {},
   "outputs": [],
   "source": [
    "def get_upper_waveform(video_name, image_number, OUTPUT = False):   #no path - just number\n",
    "    image_path = \"Data/video\"+video_name+\"_TREATED/\"+\"image\"+ str(image_number) +\".jpg\"\n",
    "    frame = cv2.imread(image_path)\n",
    "    frame = utils.image_processing(frame) #To get two dimensional array instead of 3 (Grayscale)\n",
    "    \n",
    "    waveform = utils.get_waveform(frame) #Upper and Lower surfaces\n",
    "    upper_surface = waveform[:, 0]\n",
    "\n",
    "    #plt.plot(np.arange(utils.width), middle_line, label = \"middle\")     # CAN CHANGE\n",
    "    #plt.show()\n",
    "    \n",
    "    return upper_surface"
   ]
  },
  {
   "cell_type": "markdown",
   "metadata": {},
   "source": [
    "We now tweak all functions that depend on this function to generate displacements and resultant potentials."
   ]
  },
  {
   "cell_type": "code",
   "execution_count": 5,
   "metadata": {},
   "outputs": [],
   "source": [
    "def get_frame_potential(video_name, image_number, initial_lengths, K_arr, initial_guess = np.zeros(evt.N), x_nodes = None):\n",
    "    \n",
    "    waveform = get_upper_waveform(video_name, image_number)\n",
    "    x_nodes = place_x_nodes((0,575), evt.N) if x_nodes is None else x_nodes\n",
    "    y_nodes = waveform[x_nodes]\n",
    "\n",
    "#     plt.figure()\n",
    "#     plt.plot(x_nodes,y_nodes)\n",
    "#     plt.show()\n",
    "    \n",
    "    displacements = minimize(evt.potentialEnergy, initial_guess, args = (x_nodes, y_nodes, initial_lengths, K_arr))\n",
    "    \n",
    "#     print(displacements.x)\n",
    "#   this is where the local fit is required\n",
    "# for now ill leave the approximation with the slope lol\n",
    "#\n",
    "\n",
    "    U_pot = evt.potentialEnergy(displacements.x, x_nodes, y_nodes, initial_lengths, K_arr)\n",
    "    \n",
    "#     plt.figure(figsize=(8,6))\n",
    "#     plt.plot(x_nodes[1:-1], displacements.x)\n",
    "#     plt.title(f\"Fram: {imageNumber}\")\n",
    "#     plt.show()\n",
    "    \n",
    "    \n",
    "    return U_pot, displacements.x"
   ]
  },
  {
   "cell_type": "markdown",
   "metadata": {},
   "source": [
    "For now the above function doesn't fit anything at all, but instead computes the resultant energy by using the extrapolation scheme that yields the displacements in the first place."
   ]
  },
  {
   "cell_type": "code",
   "execution_count": 6,
   "metadata": {},
   "outputs": [],
   "source": [
    "def potential_evolution(video_name, total_images, increment = 1):   #returns Potential Array (Chronological)\n",
    "    \n",
    "    image_number = 1\n",
    "    \n",
    "    # First, get the initial lengths and stiffnesses.\n",
    "    \n",
    "    x_nodes = place_x_nodes((0, 575), evt.N +  2)\n",
    "    \n",
    "    waveform = get_upper_waveform(video_name, image_number, False)\n",
    "\n",
    "    y_nodes = waveform[x_nodes]\n",
    "    \n",
    "    initial_lengths = evt.initialLengthsFinder(x_nodes, y_nodes)\n",
    "    K_arr = np.ones(evt.N+1)/(initial_lengths*1000)\n",
    "    \n",
    "    # Iterate over images and record potential\n",
    "    \n",
    "    U_arr = np.zeros(total_images)\n",
    "    initial_guess = np.zeros(evt.N)\n",
    "    #print(initial_lengths)\n",
    "    displacements = []\n",
    "    \n",
    "    while image_number <= total_images:\n",
    "        \n",
    "        print(f'Processing Frame: {image_number}')\n",
    "        U, new_guess = get_frame_potential(video_name, image_number, initial_lengths, K_arr, initial_guess, x_nodes)\n",
    "        displacements.append(new_guess)\n",
    "        U_arr[image_number - 1] = U\n",
    "        image_number += increment\n",
    "        initial_guess = new_guess\n",
    "    \n",
    "    return U_arr, displacements"
   ]
  },
  {
   "cell_type": "code",
   "execution_count": 7,
   "metadata": {},
   "outputs": [
    {
     "name": "stdout",
     "output_type": "stream",
     "text": [
      "Processing Frame: 1\n",
      "Processing Frame: 2\n",
      "Processing Frame: 3\n",
      "Processing Frame: 4\n",
      "Processing Frame: 5\n",
      "Processing Frame: 6\n",
      "Processing Frame: 7\n",
      "Processing Frame: 8\n",
      "Processing Frame: 9\n",
      "Processing Frame: 10\n",
      "Processing Frame: 11\n",
      "Processing Frame: 12\n",
      "Processing Frame: 13\n",
      "Processing Frame: 14\n",
      "Processing Frame: 15\n",
      "Processing Frame: 16\n",
      "Processing Frame: 17\n",
      "Processing Frame: 18\n",
      "Processing Frame: 19\n",
      "Processing Frame: 20\n",
      "Processing Frame: 21\n",
      "Processing Frame: 22\n",
      "Processing Frame: 23\n",
      "Processing Frame: 24\n",
      "Processing Frame: 25\n",
      "Processing Frame: 26\n",
      "Processing Frame: 27\n",
      "Processing Frame: 28\n",
      "Processing Frame: 29\n",
      "Processing Frame: 30\n",
      "Processing Frame: 31\n",
      "Processing Frame: 32\n",
      "Processing Frame: 33\n",
      "Processing Frame: 34\n",
      "Processing Frame: 35\n",
      "Processing Frame: 36\n",
      "Processing Frame: 37\n",
      "Processing Frame: 38\n",
      "Processing Frame: 39\n",
      "Processing Frame: 40\n",
      "Processing Frame: 41\n",
      "Processing Frame: 42\n",
      "Processing Frame: 43\n",
      "Processing Frame: 44\n",
      "Processing Frame: 45\n",
      "Processing Frame: 46\n",
      "Processing Frame: 47\n",
      "Processing Frame: 48\n",
      "Processing Frame: 49\n",
      "Processing Frame: 50\n",
      "Processing Frame: 51\n",
      "Processing Frame: 52\n",
      "Processing Frame: 53\n",
      "Processing Frame: 54\n",
      "Processing Frame: 55\n",
      "Processing Frame: 56\n",
      "Processing Frame: 57\n",
      "Processing Frame: 58\n",
      "Processing Frame: 59\n",
      "Processing Frame: 60\n",
      "Processing Frame: 61\n",
      "Processing Frame: 62\n",
      "Processing Frame: 63\n",
      "Processing Frame: 64\n",
      "Processing Frame: 65\n",
      "Processing Frame: 66\n",
      "Processing Frame: 67\n",
      "Processing Frame: 68\n",
      "Processing Frame: 69\n",
      "Processing Frame: 70\n",
      "Processing Frame: 71\n",
      "Processing Frame: 72\n",
      "Processing Frame: 73\n",
      "Processing Frame: 74\n",
      "Processing Frame: 75\n",
      "Processing Frame: 76\n",
      "Processing Frame: 77\n",
      "Processing Frame: 78\n",
      "Processing Frame: 79\n",
      "Processing Frame: 80\n",
      "Processing Frame: 81\n",
      "Processing Frame: 82\n",
      "Processing Frame: 83\n",
      "Processing Frame: 84\n",
      "Processing Frame: 85\n",
      "Processing Frame: 86\n",
      "Processing Frame: 87\n",
      "Processing Frame: 88\n",
      "Processing Frame: 89\n",
      "Processing Frame: 90\n",
      "Processing Frame: 91\n",
      "Processing Frame: 92\n",
      "Processing Frame: 93\n",
      "Processing Frame: 94\n",
      "Processing Frame: 95\n",
      "Processing Frame: 96\n",
      "Processing Frame: 97\n",
      "Processing Frame: 98\n",
      "Processing Frame: 99\n",
      "Processing Frame: 100\n",
      "Processing Frame: 101\n",
      "Processing Frame: 102\n",
      "Processing Frame: 103\n",
      "Processing Frame: 104\n",
      "Processing Frame: 105\n",
      "Processing Frame: 106\n",
      "Processing Frame: 107\n",
      "Processing Frame: 108\n",
      "Processing Frame: 109\n",
      "Processing Frame: 110\n",
      "Processing Frame: 111\n",
      "Processing Frame: 112\n",
      "Processing Frame: 113\n",
      "Processing Frame: 114\n",
      "Processing Frame: 115\n",
      "Processing Frame: 116\n",
      "Processing Frame: 117\n",
      "Processing Frame: 118\n",
      "Processing Frame: 119\n",
      "Processing Frame: 120\n",
      "Processing Frame: 121\n",
      "Processing Frame: 122\n",
      "Processing Frame: 123\n",
      "Processing Frame: 124\n",
      "Processing Frame: 125\n",
      "Processing Frame: 126\n",
      "Processing Frame: 127\n",
      "Processing Frame: 128\n",
      "Processing Frame: 129\n",
      "Processing Frame: 130\n",
      "Processing Frame: 131\n",
      "Processing Frame: 132\n",
      "Processing Frame: 133\n",
      "Processing Frame: 134\n",
      "Processing Frame: 135\n",
      "Processing Frame: 136\n",
      "Processing Frame: 137\n",
      "Processing Frame: 138\n",
      "Processing Frame: 139\n"
     ]
    }
   ],
   "source": [
    "energy, displacements = potential_evolution('003HA_Right_20160129_110735.avi', 139, 1)\n",
    "displacements = np.array(displacements)"
   ]
  },
  {
   "cell_type": "code",
   "execution_count": 8,
   "metadata": {},
   "outputs": [],
   "source": [
    "example_data_displacement = pd.DataFrame(displacements) # type: ignore"
   ]
  },
  {
   "cell_type": "code",
   "execution_count": 9,
   "metadata": {},
   "outputs": [],
   "source": [
    "example_data_displacement.to_csv('local_omitted_fitting_test/003HA_Right_20160129_110735.avi_displacements.csv', index = False)"
   ]
  },
  {
   "cell_type": "code",
   "execution_count": 10,
   "metadata": {},
   "outputs": [],
   "source": [
    "example_data_energy = pd.DataFrame(energy) # type: ignore"
   ]
  },
  {
   "cell_type": "code",
   "execution_count": 11,
   "metadata": {},
   "outputs": [],
   "source": [
    "example_data_energy.to_csv('local_omitted_fitting_test/003HA_Right_20160129_110735.avi_energy.csv', index = False)"
   ]
  },
  {
   "cell_type": "code",
   "execution_count": 12,
   "metadata": {},
   "outputs": [],
   "source": [
    "displacements = pd.read_csv('local_omitted_fitting_test/003HA_Right_20160129_110735.avi_displacements.csv').to_numpy()\n",
    "energy = pd.read_csv('local_omitted_fitting_test/003HA_Right_20160129_110735.avi_energy.csv').to_numpy()"
   ]
  },
  {
   "cell_type": "code",
   "execution_count": 13,
   "metadata": {},
   "outputs": [
    {
     "data": {
      "image/png": "[encoded data removed]",
      "text/plain": [
       "<Figure size 432x288 with 1 Axes>"
      ]
     },
     "metadata": {
      "needs_background": "light"
     },
     "output_type": "display_data"
    }
   ],
   "source": [
    "plt.figure()\n",
    "plt.plot(np.arange(1,140), energy)\n",
    "plt.show()"
   ]
  },
  {
   "cell_type": "markdown",
   "metadata": {},
   "source": [
    "We unfortunately still observe some singularities and noise. We can try to instead perform a local fit to retrieve the node's vertical position rather than the linear extrapolation. Since we've already fetched the displacements, we must only fit and recompute the energy using the newly determined horizontal position of the nodes."
   ]
  },
  {
   "cell_type": "code",
   "execution_count": 14,
   "metadata": {},
   "outputs": [],
   "source": [
    "def compute_frame_energy(video_name, image_number, displacements, initial_lengths, K_arr, x_nodes = None):\n",
    "    \n",
    "    waveform = get_upper_waveform(video_name, image_number)\n",
    "    x_nodes = place_x_nodes((0,575), evt.N + 2) if x_nodes is None else x_nodes\n",
    "    y_nodes = waveform[x_nodes]\n",
    "\n",
    "#     plt.figure()\n",
    "#     plt.plot(x_nodes,y_nodes)\n",
    "#     plt.show()\n",
    "\n",
    "    new_x_positions = deepcopy(x_nodes)\n",
    "    for i in range(1, new_x_positions.shape[0] - 1):\n",
    "        new_x_positions[i] += displacements[i-1]\n",
    "    new_y_nodes = np.zeros(new_x_positions.shape[0])\n",
    "    for index in range(new_y_nodes.shape[0]):\n",
    "        min_index = max([i - 5, 0])\n",
    "        max_index = min([i+5, x_nodes[-1]])\n",
    "        coefficients = np.polyfit(x_nodes[min_index:max_index], y_nodes[min_index:max_index], 4)\n",
    "        new_y_nodes[i] = coefficients[0] * new_x_positions[i]**4\n",
    "        new_y_nodes[i] += coefficients[1] * new_x_positions[i] ** 3\n",
    "        new_y_nodes[i] += coefficients[2] * new_x_positions[i] ** 2\n",
    "        new_y_nodes[i] += coefficients[3] * new_x_positions[i] ** 2\n",
    "        new_y_nodes[i] += coefficients[4] \n",
    "    \n",
    "#     print(displacements.x)\n",
    "#   this is where the local fit is required\n",
    "# for now ill leave the approximation with the slope lol\n",
    "    def poten(x_0, y_i, lengths, K):\n",
    "    \n",
    "        segmentEnergies = np.zeros(evt.N+1)        #To sum at the end\n",
    "        x = x_0\n",
    "        y = y_i\n",
    "            \n",
    "        for i in range(K.shape[0]):\n",
    "            \n",
    "            \n",
    "            p1 = (x[i], y[i])\n",
    "            p2 = (x[i+1], y[i+1])\n",
    "            \n",
    "            newDist = evt.euclideanDistance(p1, p2)\n",
    "            \n",
    "            segmentEnergies[i] = 0.5 * K[i] * (newDist - lengths[i])**2\n",
    "        \n",
    "        return np.sum(segmentEnergies)\n",
    "\n",
    "    U_pot = poten(x_nodes, y_nodes, initial_lengths, K_arr)\n",
    "    \n",
    "#     plt.figure(figsize=(8,6))\n",
    "#     plt.plot(x_nodes[1:-1], displacements.x)\n",
    "#     plt.title(f\"Fram: {imageNumber}\")\n",
    "#     plt.show()\n",
    "    \n",
    "    \n",
    "    return U_pot, new_y_nodes"
   ]
  },
  {
   "cell_type": "code",
   "execution_count": 15,
   "metadata": {},
   "outputs": [],
   "source": [
    "def compute_energy_evolution(video_name, total_images, displacements, increment = 1):   #returns Potential Array (Chronological)\n",
    "    \n",
    "    image_number = 1\n",
    "    \n",
    "    # First, get the initial lengths and stiffnesses.\n",
    "    \n",
    "    x_nodes = place_x_nodes((0, 575), evt.N +  2)\n",
    "    \n",
    "    waveform = get_upper_waveform(video_name, image_number, False)\n",
    "\n",
    "    y_nodes = waveform[x_nodes]\n",
    "    \n",
    "    initial_lengths = evt.initialLengthsFinder(x_nodes, y_nodes)\n",
    "    K_arr = np.ones(evt.N+1)/(initial_lengths* 1000)\n",
    "    \n",
    "    # Iterate over images and record potential\n",
    "    \n",
    "    U_arr = np.zeros(total_images)\n",
    "    new_y_nodes = []\n",
    "\n",
    "    # print(initial_lengths)\n",
    "    \n",
    "    while image_number <= total_images:\n",
    "        \n",
    "        print(f'Processing Frame: {image_number}')\n",
    "        U, y_disp = compute_frame_energy(video_name, image_number, displacements[image_number-1], initial_lengths, K_arr, x_nodes)\n",
    "        new_y_nodes.append(y_disp)\n",
    "        U_arr[image_number - 1] = U\n",
    "        image_number += increment\n",
    "    \n",
    "    return U_arr, np.array(new_y_nodes)"
   ]
  },
  {
   "cell_type": "code",
   "execution_count": 16,
   "metadata": {},
   "outputs": [
    {
     "name": "stdout",
     "output_type": "stream",
     "text": [
      "Processing Frame: 1\n",
      "Processing Frame: 2\n",
      "Processing Frame: 3\n",
      "Processing Frame: 4\n",
      "Processing Frame: 5\n",
      "Processing Frame: 6\n",
      "Processing Frame: 7\n",
      "Processing Frame: 8\n",
      "Processing Frame: 9\n",
      "Processing Frame: 10\n",
      "Processing Frame: 11\n",
      "Processing Frame: 12\n",
      "Processing Frame: 13\n",
      "Processing Frame: 14\n",
      "Processing Frame: 15\n",
      "Processing Frame: 16\n",
      "Processing Frame: 17\n",
      "Processing Frame: 18\n",
      "Processing Frame: 19\n",
      "Processing Frame: 20\n",
      "Processing Frame: 21\n",
      "Processing Frame: 22\n",
      "Processing Frame: 23\n",
      "Processing Frame: 24\n",
      "Processing Frame: 25\n",
      "Processing Frame: 26\n",
      "Processing Frame: 27\n",
      "Processing Frame: 28\n",
      "Processing Frame: 29\n",
      "Processing Frame: 30\n",
      "Processing Frame: 31\n",
      "Processing Frame: 32\n",
      "Processing Frame: 33\n",
      "Processing Frame: 34\n",
      "Processing Frame: 35\n",
      "Processing Frame: 36\n",
      "Processing Frame: 37\n",
      "Processing Frame: 38\n",
      "Processing Frame: 39\n",
      "Processing Frame: 40\n",
      "Processing Frame: 41\n",
      "Processing Frame: 42\n",
      "Processing Frame: 43\n",
      "Processing Frame: 44\n",
      "Processing Frame: 45\n",
      "Processing Frame: 46\n",
      "Processing Frame: 47\n",
      "Processing Frame: 48\n",
      "Processing Frame: 49\n",
      "Processing Frame: 50\n",
      "Processing Frame: 51\n",
      "Processing Frame: 52\n",
      "Processing Frame: 53\n",
      "Processing Frame: 54\n",
      "Processing Frame: 55\n",
      "Processing Frame: 56\n",
      "Processing Frame: 57\n",
      "Processing Frame: 58\n",
      "Processing Frame: 59\n",
      "Processing Frame: 60\n",
      "Processing Frame: 61\n",
      "Processing Frame: 62\n",
      "Processing Frame: 63\n",
      "Processing Frame: 64\n",
      "Processing Frame: 65\n",
      "Processing Frame: 66\n",
      "Processing Frame: 67\n",
      "Processing Frame: 68\n",
      "Processing Frame: 69\n",
      "Processing Frame: 70\n",
      "Processing Frame: 71\n",
      "Processing Frame: 72\n",
      "Processing Frame: 73\n",
      "Processing Frame: 74\n",
      "Processing Frame: 75\n",
      "Processing Frame: 76\n",
      "Processing Frame: 77\n",
      "Processing Frame: 78\n",
      "Processing Frame: 79\n",
      "Processing Frame: 80\n",
      "Processing Frame: 81\n",
      "Processing Frame: 82\n",
      "Processing Frame: 83\n",
      "Processing Frame: 84\n",
      "Processing Frame: 85\n",
      "Processing Frame: 86\n",
      "Processing Frame: 87\n",
      "Processing Frame: 88\n",
      "Processing Frame: 89\n",
      "Processing Frame: 90\n",
      "Processing Frame: 91\n",
      "Processing Frame: 92\n",
      "Processing Frame: 93\n",
      "Processing Frame: 94\n",
      "Processing Frame: 95\n",
      "Processing Frame: 96\n",
      "Processing Frame: 97\n",
      "Processing Frame: 98\n",
      "Processing Frame: 99\n",
      "Processing Frame: 100\n",
      "Processing Frame: 101\n",
      "Processing Frame: 102\n",
      "Processing Frame: 103\n",
      "Processing Frame: 104\n",
      "Processing Frame: 105\n",
      "Processing Frame: 106\n",
      "Processing Frame: 107\n",
      "Processing Frame: 108\n",
      "Processing Frame: 109\n",
      "Processing Frame: 110\n",
      "Processing Frame: 111\n",
      "Processing Frame: 112\n",
      "Processing Frame: 113\n",
      "Processing Frame: 114\n",
      "Processing Frame: 115\n",
      "Processing Frame: 116\n",
      "Processing Frame: 117\n",
      "Processing Frame: 118\n",
      "Processing Frame: 119\n",
      "Processing Frame: 120\n",
      "Processing Frame: 121\n",
      "Processing Frame: 122\n",
      "Processing Frame: 123\n",
      "Processing Frame: 124\n",
      "Processing Frame: 125\n",
      "Processing Frame: 126\n",
      "Processing Frame: 127\n",
      "Processing Frame: 128\n",
      "Processing Frame: 129\n",
      "Processing Frame: 130\n",
      "Processing Frame: 131\n",
      "Processing Frame: 132\n",
      "Processing Frame: 133\n",
      "Processing Frame: 134\n",
      "Processing Frame: 135\n",
      "Processing Frame: 136\n",
      "Processing Frame: 137\n",
      "Processing Frame: 138\n",
      "Processing Frame: 139\n"
     ]
    }
   ],
   "source": [
    "adjusted_energy, new_y_nodes = compute_energy_evolution('003HA_Right_20160129_110735.avi', 139, displacements, 1)"
   ]
  },
  {
   "cell_type": "code",
   "execution_count": 17,
   "metadata": {},
   "outputs": [],
   "source": [
    "adjusted_energy_df = pd.DataFrame(adjusted_energy)\n",
    "adjusted_energy_df.to_csv('local_omitted_fitting_test/003HA_Right_20160129_110735.avi_adjusted_energy.csv', index = False)\n",
    "new_y_df = pd.DataFrame(new_y_nodes)\n",
    "new_y_df.to_csv('local_omitted_fitting_test/003HA_Right_20160129_110735.avi_new_vertical_positions.csv', index = False)"
   ]
  },
  {
   "cell_type": "code",
   "execution_count": 18,
   "metadata": {},
   "outputs": [
    {
     "data": {
      "image/png": "[encoded data removed]",
      "text/plain": [
       "<Figure size 1080x864 with 1 Axes>"
      ]
     },
     "metadata": {
      "needs_background": "light"
     },
     "output_type": "display_data"
    }
   ],
   "source": [
    "plt.figure(figsize = (15,12))\n",
    "plt.plot(np.arange(1,140), adjusted_energy)\n",
    "plt.show()"
   ]
  }
 ],
 "metadata": {
  "kernelspec": {
   "display_name": "base",
   "language": "python",
   "name": "python3"
  },
  "language_info": {
   "codemirror_mode": {
    "name": "ipython",
    "version": 3
   },
   "file_extension": ".py",
   "mimetype": "text/x-python",
   "name": "python",
   "nbconvert_exporter": "python",
   "pygments_lexer": "ipython3",
   "version": "3.9.12"
  }
 },
 "nbformat": 4,
 "nbformat_minor": 2
}
