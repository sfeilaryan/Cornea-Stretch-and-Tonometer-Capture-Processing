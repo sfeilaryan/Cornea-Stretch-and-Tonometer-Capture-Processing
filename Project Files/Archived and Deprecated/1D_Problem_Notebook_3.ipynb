{
 "cells": [
  {
   "cell_type": "markdown",
   "id": "b384fa02",
   "metadata": {},
   "source": [
    "We continue the troubleshooting of the potential evolution curve on this notebook, and we move all our new utility functions to the evolutionTools.py file."
   ]
  },
  {
   "cell_type": "code",
   "execution_count": 1,
   "id": "49cf4d1f",
   "metadata": {},
   "outputs": [],
   "source": [
    "## loading python libraries\n",
    "\n",
    "# necessary to display plots inline:\n",
    "%matplotlib inline\n",
    "\n",
    "# load the libraries\n",
    "import matplotlib.pyplot as plt # 2D plotting library\n",
    "import numpy as np              # package for scientific computing\n",
    "\n",
    "from scipy.optimize import fsolve   # Numerically solve non-linear system of equations\n",
    "from scipy.optimize import minimize # Numerically minimize scalar multivariable function\n",
    "\n",
    "from math import *              # package for mathematics (pi, arctan, sqrt, factorial ...)\n",
    "\n",
    "import cv2                      # In case I have to write code similar to that of Wu Yifan\n",
    "import os\n",
    "import matplotlib.animation as ani\n",
    "import sympy as sp\n",
    "import utils                    # Wu Yifan's image/video processing functions\n",
    "from PIL import Image           # Movie creation\n",
    "import threading                # MultiThreading\n",
    "import random\n",
    "import evolutionTools as evt    # Contains functions from notebook2\n",
    "from copy import deepcopy"
   ]
  },
  {
   "cell_type": "code",
   "execution_count": 3,
   "id": "726507c9",
   "metadata": {},
   "outputs": [],
   "source": [
    "def upperSemiCircle(R, x):   #return the f(x) array where f maps to a \n",
    "                             #semi-circle centered at the origin of radius R\n",
    "                             # Assumes all x_i in [-R,R]\n",
    "    return np.sqrt(R**2-x**2)"
   ]
  },
  {
   "cell_type": "markdown",
   "id": "c39d551c",
   "metadata": {},
   "source": [
    "We will hard a cornea deformation that corresponds to a straight line, and observe the potential and node displacement behavior. We also want to start with equidistant nodes as they may be more informative during the analysis of the potential and displacement profiles. To this end, we will work with a semi-circle to represent the cornea."
   ]
  },
  {
   "cell_type": "markdown",
   "id": "3842927d",
   "metadata": {},
   "source": [
    "We will consider a semi-circular cornea of radius $R=4$, centered at the origin. We will tag equidistant nodes by keeping the same polar angle between two consecutive nodes. We want $N+1$ segments (or arcs), so we have $N+1$ angles, so our separation angle writes $\\theta_{sep} = \\pi/ (N+1)$. Then, to retrieve the desired $x-$nodes, we can proceed as follows:\n",
    "\n",
    "\n",
    "- Set $\\theta = \\pi$, and tag $x_0 = R\\cos\\theta = -4$.\n",
    "\n",
    "\n",
    "- For $i = 1,...,N$: subtract $\\theta_{sep}$ from $\\theta$, and set $x_i = R\\cos \\theta$.\n",
    "\n",
    "\n",
    "- Set $x_{N+1} = R (\\cos 0 ) = R$."
   ]
  },
  {
   "cell_type": "code",
   "execution_count": 4,
   "id": "b4315466",
   "metadata": {},
   "outputs": [],
   "source": [
    "R = 4\n",
    "x = np.zeros(evt.N + 2)\n",
    "x[0] = -R\n",
    "x[evt.N +1] = R\n",
    "theta = np.pi\n",
    "sep = np.pi/(evt.N + 1)"
   ]
  },
  {
   "cell_type": "code",
   "execution_count": 5,
   "id": "38d90f8a",
   "metadata": {},
   "outputs": [],
   "source": [
    "for i in range(1, evt.N+1):\n",
    "    theta -= sep\n",
    "    x[i] = R * cos(theta)"
   ]
  },
  {
   "cell_type": "code",
   "execution_count": 6,
   "id": "7d03bda6",
   "metadata": {},
   "outputs": [],
   "source": [
    "y = upperSemiCircle(R, x)"
   ]
  },
  {
   "cell_type": "code",
   "execution_count": 7,
   "id": "53beaa61",
   "metadata": {},
   "outputs": [
    {
     "data": {
      "image/png": "[encoded data removed]",
      "text/plain": [
       "<Figure size 432x432 with 1 Axes>"
      ]
     },
     "metadata": {
      "needs_background": "light"
     },
     "output_type": "display_data"
    }
   ],
   "source": [
    "plt.figure(figsize = (6,6))\n",
    "plt.plot(x,y)\n",
    "plt.show()     #Sanity Check?"
   ]
  },
  {
   "cell_type": "code",
   "execution_count": 8,
   "id": "8c4c224d",
   "metadata": {},
   "outputs": [
    {
     "data": {
      "text/plain": [
       "array([0.1244145, 0.1244145, 0.1244145, 0.1244145, 0.1244145, 0.1244145,\n",
       "       0.1244145, 0.1244145, 0.1244145, 0.1244145, 0.1244145, 0.1244145,\n",
       "       0.1244145, 0.1244145, 0.1244145, 0.1244145, 0.1244145, 0.1244145,\n",
       "       0.1244145, 0.1244145, 0.1244145, 0.1244145, 0.1244145, 0.1244145,\n",
       "       0.1244145, 0.1244145, 0.1244145, 0.1244145, 0.1244145, 0.1244145,\n",
       "       0.1244145, 0.1244145, 0.1244145, 0.1244145, 0.1244145, 0.1244145,\n",
       "       0.1244145, 0.1244145, 0.1244145, 0.1244145, 0.1244145, 0.1244145,\n",
       "       0.1244145, 0.1244145, 0.1244145, 0.1244145, 0.1244145, 0.1244145,\n",
       "       0.1244145, 0.1244145, 0.1244145, 0.1244145, 0.1244145, 0.1244145,\n",
       "       0.1244145, 0.1244145, 0.1244145, 0.1244145, 0.1244145, 0.1244145,\n",
       "       0.1244145, 0.1244145, 0.1244145, 0.1244145, 0.1244145, 0.1244145,\n",
       "       0.1244145, 0.1244145, 0.1244145, 0.1244145, 0.1244145, 0.1244145,\n",
       "       0.1244145, 0.1244145, 0.1244145, 0.1244145, 0.1244145, 0.1244145,\n",
       "       0.1244145, 0.1244145, 0.1244145, 0.1244145, 0.1244145, 0.1244145,\n",
       "       0.1244145, 0.1244145, 0.1244145, 0.1244145, 0.1244145, 0.1244145,\n",
       "       0.1244145, 0.1244145, 0.1244145, 0.1244145, 0.1244145, 0.1244145,\n",
       "       0.1244145, 0.1244145, 0.1244145, 0.1244145, 0.1244145])"
      ]
     },
     "execution_count": 8,
     "metadata": {},
     "output_type": "execute_result"
    }
   ],
   "source": [
    "evt.initialLengthsFinder(x,y)   #Sanity Check"
   ]
  },
  {
   "cell_type": "code",
   "execution_count": 9,
   "id": "ff330731",
   "metadata": {},
   "outputs": [
    {
     "data": {
      "text/plain": [
       "12.565864031643507"
      ]
     },
     "execution_count": 9,
     "metadata": {},
     "output_type": "execute_result"
    }
   ],
   "source": [
    "np.sum(evt.initialLengthsFinder(x,y))"
   ]
  },
  {
   "cell_type": "code",
   "execution_count": 10,
   "id": "b609239d",
   "metadata": {},
   "outputs": [
    {
     "data": {
      "text/plain": [
       "12.566370614359172"
      ]
     },
     "execution_count": 10,
     "metadata": {},
     "output_type": "execute_result"
    }
   ],
   "source": [
    "np.pi*8*0.5"
   ]
  },
  {
   "cell_type": "markdown",
   "id": "4e00ddb0",
   "metadata": {},
   "source": [
    "A little bit of truncation error but it should be fine for our current purposes. The final state is a striaght line, which we easily code."
   ]
  },
  {
   "cell_type": "code",
   "execution_count": 11,
   "id": "6acf8c8e",
   "metadata": {},
   "outputs": [],
   "source": [
    "y_new = np.zeros(evt.N+2)"
   ]
  },
  {
   "cell_type": "code",
   "execution_count": 12,
   "id": "416e2ddb",
   "metadata": {},
   "outputs": [],
   "source": [
    "displacements = minimize(evt.potentialEnergy, np.zeros(evt.N), args = (x, y_new, evt.initialLengthsFinder(x,y), evt.K))"
   ]
  },
  {
   "cell_type": "code",
   "execution_count": 13,
   "id": "b5c13798",
   "metadata": {},
   "outputs": [
    {
     "data": {
      "text/plain": [
       "array([ 0.07727303,  0.15067755,  0.2202206 ,  0.28591043,  0.34776054,\n",
       "        0.40578731,  0.46001192,  0.51045786,  0.5571535 ,  0.6001296 ,\n",
       "        0.63942153,  0.6750682 ,  0.70711183,  0.7355982 ,  0.76057552,\n",
       "        0.78209672,  0.80021741,  0.81499731,  0.8264985 ,  0.8347862 ,\n",
       "        0.83992882,  0.84199806,  0.84106909,  0.83721936,  0.83052896,\n",
       "        0.82108089,  0.80896099,  0.79425812,  0.77706298,  0.75746832,\n",
       "        0.73556944,  0.71146422,  0.68525371,  0.65703986,  0.62692632,\n",
       "        0.59501766,  0.56142155,  0.52624806,  0.48960841,  0.45161432,\n",
       "        0.41237786,  0.3720141 ,  0.33063974,  0.28837183,  0.24532619,\n",
       "        0.20161949,  0.15737193,  0.11270604,  0.06774288,  0.02259991,\n",
       "       -0.0226123 , -0.06775527, -0.11271843, -0.15738432, -0.20163187,\n",
       "       -0.24533857, -0.28838418, -0.33065208, -0.37202642, -0.41239016,\n",
       "       -0.45162659, -0.48962064, -0.52626025, -0.56143369, -0.59502973,\n",
       "       -0.62693834, -0.6570518 , -0.68526556, -0.71147599, -0.73558109,\n",
       "       -0.75747986, -0.7770744 , -0.7942694 , -0.80897212, -0.82109185,\n",
       "       -0.83053974, -0.83722995, -0.84107947, -0.84200822, -0.83993873,\n",
       "       -0.83479586, -0.82650788, -0.8150064 , -0.80022618, -0.78210517,\n",
       "       -0.76058362, -0.73560592, -0.70711915, -0.67507511, -0.63942801,\n",
       "       -0.60013561, -0.55715903, -0.51046288, -0.46001641, -0.40579124,\n",
       "       -0.34776389, -0.28591316, -0.22022269, -0.15067897, -0.07727376])"
      ]
     },
     "execution_count": 13,
     "metadata": {},
     "output_type": "execute_result"
    }
   ],
   "source": [
    "displacements.x"
   ]
  },
  {
   "cell_type": "code",
   "execution_count": 14,
   "id": "379d6626",
   "metadata": {},
   "outputs": [
    {
     "data": {
      "image/png": "[encoded data removed]",
      "text/plain": [
       "<Figure size 576x864 with 1 Axes>"
      ]
     },
     "metadata": {
      "needs_background": "light"
     },
     "output_type": "display_data"
    }
   ],
   "source": [
    "plt.figure(figsize = (8,12))\n",
    "plt.plot(x[1:-1], displacements.x)\n",
    "plt.show()"
   ]
  },
  {
   "cell_type": "markdown",
   "id": "82fca38e",
   "metadata": {},
   "source": [
    "The above isn't quite relevant, but we are interested in the new lengths and the energy distribution."
   ]
  },
  {
   "cell_type": "code",
   "execution_count": 15,
   "id": "5e9acaa8",
   "metadata": {},
   "outputs": [],
   "source": [
    "x_new = deepcopy(x)\n",
    "\n",
    "for i in range(1, x_new.shape[0]-1):\n",
    "    x_new[i] += displacements.x[i-1]\n",
    "    \n",
    "newLengths = evt.initialLengthsFinder(x_new, y_new)"
   ]
  },
  {
   "cell_type": "code",
   "execution_count": 16,
   "id": "17db10ab",
   "metadata": {},
   "outputs": [
    {
     "data": {
      "text/plain": [
       "array([0.0792079 , 0.07920726, 0.07920804, 0.07920774, 0.07920784,\n",
       "       0.07920753, 0.07920793, 0.07920763, 0.07920787, 0.07920743,\n",
       "       0.07920731, 0.07920747, 0.07920772, 0.07920813, 0.07920766,\n",
       "       0.07920767, 0.07920746, 0.0792079 , 0.07920808, 0.07920798,\n",
       "       0.07920767, 0.07920741, 0.0792077 , 0.07920791, 0.07920786,\n",
       "       0.07920771, 0.07920762, 0.07920804, 0.07920831, 0.07920807,\n",
       "       0.07920754, 0.07920708, 0.07920772, 0.07920833, 0.07920866,\n",
       "       0.07920778, 0.07920711, 0.07920735, 0.07920817, 0.07920863,\n",
       "       0.07920777, 0.0792074 , 0.07920804, 0.07920908, 0.07920844,\n",
       "       0.07920617, 0.07920519, 0.07920732, 0.07921066, 0.07921134,\n",
       "       0.07920229, 0.07921135, 0.07921066, 0.07920733, 0.0792052 ,\n",
       "       0.07920617, 0.07920845, 0.0792091 , 0.07920806, 0.07920742,\n",
       "       0.0792078 , 0.07920867, 0.07920821, 0.0792074 , 0.07920717,\n",
       "       0.07920785, 0.07920873, 0.07920842, 0.07920781, 0.07920719,\n",
       "       0.07920765, 0.0792082 , 0.07920845, 0.0792082 , 0.07920779,\n",
       "       0.07920789, 0.07920805, 0.07920812, 0.07920792, 0.07920766,\n",
       "       0.07920793, 0.07920825, 0.07920837, 0.07920822, 0.07920779,\n",
       "       0.07920802, 0.07920803, 0.07920852, 0.07920813, 0.07920791,\n",
       "       0.07920777, 0.07920792, 0.07920839, 0.07920816, 0.07920848,\n",
       "       0.07920812, 0.07920846, 0.07920837, 0.07920871, 0.07920796,\n",
       "       0.07920863])"
      ]
     },
     "execution_count": 16,
     "metadata": {},
     "output_type": "execute_result"
    }
   ],
   "source": [
    "newLengths"
   ]
  },
  {
   "cell_type": "markdown",
   "id": "ddf5fce0",
   "metadata": {},
   "source": [
    "Nodes remain equidistant after displacement. Note that, one can notice that the potential energy function doesn't care what the shape of the cornea is, but only what the initial lengths are. This seems problematic until we realize we have chosen to discard bending energy for now."
   ]
  },
  {
   "cell_type": "markdown",
   "id": "446842d0",
   "metadata": {},
   "source": [
    "There is no need to even evaluate the potential profile after deformation. Since the potential energy of a segment is only affected by its new length (and not the stiffness since segments of equal rest length are attributed equal stiffnesses) then the energy is uniformly distributed across the cornea, which is what we expect. A mere sanity check of the code will suffice."
   ]
  },
  {
   "cell_type": "markdown",
   "id": "0900d0b6",
   "metadata": {},
   "source": [
    "Most probably, we have a fitting problem. We can test with a different cornea in a sort of diagnostic test. We can also try the upper waveform. Work with the second, cleaner movie. Look more into noise treating. Plot fit-middle waveform error as a function of horizontal distance on all frames to determine if the localization comes from a bad fit."
   ]
  },
  {
   "cell_type": "markdown",
   "id": "cbadee3f",
   "metadata": {},
   "source": [
    "We start by testing on two different movies (#: 110735 and 140907.)"
   ]
  },
  {
   "cell_type": "markdown",
   "id": "b5fb9441",
   "metadata": {},
   "source": [
    "# 110735 Processing"
   ]
  },
  {
   "cell_type": "markdown",
   "id": "eeb17051",
   "metadata": {},
   "source": [
    "First we make the waveform evolution movie."
   ]
  },
  {
   "cell_type": "code",
   "execution_count": 21,
   "id": "04cd9512",
   "metadata": {},
   "outputs": [
    {
     "name": "stdout",
     "output_type": "stream",
     "text": [
      "Frames already extracted, delete directory to repeat.\n"
     ]
    }
   ],
   "source": [
    "evt.getFrames(\"003HA_Right_20160129_110735.avi\")"
   ]
  },
  {
   "cell_type": "code",
   "execution_count": 25,
   "id": "cc8091ef",
   "metadata": {},
   "outputs": [
    {
     "name": "stdout",
     "output_type": "stream",
     "text": [
      "Already treated, delete directrory to repeat.\n"
     ]
    }
   ],
   "source": [
    "evt.treatImagesInPlace(\"003HA_Right_20160129_110735.avi\")"
   ]
  },
  {
   "cell_type": "code",
   "execution_count": 26,
   "id": "7343e50a",
   "metadata": {},
   "outputs": [
    {
     "name": "stdout",
     "output_type": "stream",
     "text": [
      "Already Processed.\n"
     ]
    }
   ],
   "source": [
    "evt.getWaveformFrames(\"003HA_Right_20160129_110735.avi\")"
   ]
  },
  {
   "cell_type": "code",
   "execution_count": 27,
   "id": "78b6aff9",
   "metadata": {},
   "outputs": [],
   "source": [
    "evt.formattedImageCreator_waveform(\"003HA_Right_20160129_110735.avi\")"
   ]
  },
  {
   "cell_type": "code",
   "execution_count": 28,
   "id": "2784270f",
   "metadata": {},
   "outputs": [],
   "source": [
    "evt.generate_video_waveform(\"003HA_Right_20160129_110735.avi\")"
   ]
  },
  {
   "cell_type": "markdown",
   "id": "8700b997",
   "metadata": {},
   "source": [
    "Now we make the $V(x)$ profile time evolution movie."
   ]
  },
  {
   "cell_type": "code",
   "execution_count": 59,
   "id": "8a034ed8",
   "metadata": {},
   "outputs": [
    {
     "name": "stdout",
     "output_type": "stream",
     "text": [
      "Already Processed.\n"
     ]
    }
   ],
   "source": [
    "evt.get_V_x_Frames(\"003HA_Right_20160129_110735.avi\")"
   ]
  },
  {
   "cell_type": "code",
   "execution_count": 30,
   "id": "9078fb47",
   "metadata": {},
   "outputs": [],
   "source": [
    "evt.formattedImageCreator_V_x(\"003HA_Right_20160129_110735.avi\")"
   ]
  },
  {
   "cell_type": "code",
   "execution_count": 31,
   "id": "71505476",
   "metadata": {},
   "outputs": [],
   "source": [
    "evt.generate_video_V_x(\"003HA_Right_20160129_110735.avi\")"
   ]
  },
  {
   "cell_type": "markdown",
   "id": "1744fab6",
   "metadata": {},
   "source": [
    "# 140907 Processing"
   ]
  },
  {
   "cell_type": "code",
   "execution_count": 40,
   "id": "fa8afd94",
   "metadata": {},
   "outputs": [
    {
     "name": "stdout",
     "output_type": "stream",
     "text": [
      "Video of path Source/007MA_Left_20160304_140907.avi exists, loading video.\n",
      "Video 007MA_Left_20160304_140907.avi converts over, 139 images are extracted in total.\n"
     ]
    }
   ],
   "source": [
    "evt.getFrames(\"007MA_Left_20160304_140907.avi\")"
   ]
  },
  {
   "cell_type": "code",
   "execution_count": 41,
   "id": "a2073791",
   "metadata": {},
   "outputs": [],
   "source": [
    "evt.treatImagesInPlace(\"007MA_Left_20160304_140907.avi\")"
   ]
  },
  {
   "cell_type": "code",
   "execution_count": 42,
   "id": "f874a2ea",
   "metadata": {},
   "outputs": [],
   "source": [
    "evt.getWaveformFrames(\"007MA_Left_20160304_140907.avi\")"
   ]
  },
  {
   "cell_type": "code",
   "execution_count": 43,
   "id": "4ecbe820",
   "metadata": {},
   "outputs": [],
   "source": [
    "evt.formattedImageCreator_waveform(\"007MA_Left_20160304_140907.avi\")"
   ]
  },
  {
   "cell_type": "code",
   "execution_count": 44,
   "id": "b16208b1",
   "metadata": {},
   "outputs": [],
   "source": [
    "evt.generate_video_waveform(\"007MA_Left_20160304_140907.avi\")"
   ]
  },
  {
   "cell_type": "code",
   "execution_count": 58,
   "id": "f9c2effe",
   "metadata": {},
   "outputs": [
    {
     "name": "stdout",
     "output_type": "stream",
     "text": [
      "Already Processed.\n"
     ]
    }
   ],
   "source": [
    "evt.get_V_x_Frames(\"007MA_Left_20160304_140907.avi\")"
   ]
  },
  {
   "cell_type": "code",
   "execution_count": 46,
   "id": "b9d4e85d",
   "metadata": {},
   "outputs": [],
   "source": [
    "evt.formattedImageCreator_V_x(\"007MA_Left_20160304_140907.avi\")"
   ]
  },
  {
   "cell_type": "code",
   "execution_count": 47,
   "id": "9bd8e2d4",
   "metadata": {},
   "outputs": [],
   "source": [
    "evt.generate_video_V_x(\"007MA_Left_20160304_140907.avi\")"
   ]
  },
  {
   "cell_type": "markdown",
   "id": "3d940ff2",
   "metadata": {},
   "source": [
    "# Finding Localization of Fitted Curve Error"
   ]
  },
  {
   "cell_type": "markdown",
   "id": "f96aeb4a",
   "metadata": {},
   "source": [
    "We will assess where our polynomial fails us - that is, where it deviates the most from our true waveform. We will subsequently try to mitigate this error by using only the more clearly defined upper waveform."
   ]
  },
  {
   "cell_type": "code",
   "execution_count": 2,
   "id": "8b42d63b",
   "metadata": {},
   "outputs": [
    {
     "name": "stdout",
     "output_type": "stream",
     "text": [
      "Already Processed.\n"
     ]
    }
   ],
   "source": [
    "evt.getErrorFrames(\"007MA_Left_20160304_140907.avi\")"
   ]
  },
  {
   "cell_type": "code",
   "execution_count": 5,
   "id": "2cd30a65",
   "metadata": {},
   "outputs": [
    {
     "name": "stdout",
     "output_type": "stream",
     "text": [
      "Already Processed.\n"
     ]
    }
   ],
   "source": [
    "evt.getErrorFrames(\"003HA_Right_20160129_110735.avi\")"
   ]
  },
  {
   "cell_type": "code",
   "execution_count": 6,
   "id": "94521567",
   "metadata": {},
   "outputs": [
    {
     "name": "stdout",
     "output_type": "stream",
     "text": [
      "Already Processed.\n"
     ]
    }
   ],
   "source": [
    "evt.getErrorFrames(\"001BA_Left_20160203_132002.avi\")"
   ]
  },
  {
   "cell_type": "markdown",
   "id": "7cd9ba7b",
   "metadata": {},
   "source": [
    "Generating movies:"
   ]
  },
  {
   "cell_type": "code",
   "execution_count": 2,
   "id": "a5cd82fd",
   "metadata": {},
   "outputs": [
    {
     "name": "stdout",
     "output_type": "stream",
     "text": [
      "Already Processed.\n"
     ]
    }
   ],
   "source": [
    "evt.formattedImageCreator_ERROR(\"007MA_Left_20160304_140907.avi\")"
   ]
  },
  {
   "cell_type": "code",
   "execution_count": 8,
   "id": "00b858d5",
   "metadata": {},
   "outputs": [
    {
     "name": "stdout",
     "output_type": "stream",
     "text": [
      "Already Processed.\n"
     ]
    }
   ],
   "source": [
    "evt.formattedImageCreator_ERROR(\"003HA_Right_20160129_110735.avi\")"
   ]
  },
  {
   "cell_type": "code",
   "execution_count": 9,
   "id": "f504b110",
   "metadata": {},
   "outputs": [
    {
     "name": "stdout",
     "output_type": "stream",
     "text": [
      "Already Processed.\n"
     ]
    }
   ],
   "source": [
    "evt.formattedImageCreator_ERROR(\"001BA_Left_20160203_132002.avi\")"
   ]
  },
  {
   "cell_type": "code",
   "execution_count": 10,
   "id": "4a4110b1",
   "metadata": {},
   "outputs": [
    {
     "name": "stdout",
     "output_type": "stream",
     "text": [
      "Already processed.\n"
     ]
    }
   ],
   "source": [
    "evt.generate_video_ERROR(\"007MA_Left_20160304_140907.avi\")"
   ]
  },
  {
   "cell_type": "code",
   "execution_count": 11,
   "id": "bc3a879c",
   "metadata": {},
   "outputs": [
    {
     "name": "stdout",
     "output_type": "stream",
     "text": [
      "Already processed.\n"
     ]
    }
   ],
   "source": [
    "evt.generate_video_ERROR(\"003HA_Right_20160129_110735.avi\")"
   ]
  },
  {
   "cell_type": "code",
   "execution_count": 12,
   "id": "7f3058ac",
   "metadata": {},
   "outputs": [
    {
     "name": "stdout",
     "output_type": "stream",
     "text": [
      "Already processed.\n"
     ]
    }
   ],
   "source": [
    "evt.generate_video_ERROR(\"001BA_Left_20160203_132002.avi\")"
   ]
  },
  {
   "cell_type": "markdown",
   "id": "6c6b1580",
   "metadata": {},
   "source": [
    "# Using the Upper Waveform"
   ]
  },
  {
   "cell_type": "markdown",
   "id": "9702b8c5",
   "metadata": {},
   "source": [
    "We are going to work with the substantially more clearly defined upper waveform. This will amount to modyfing the function that fetches the middle line and runs a fit on it. We experiment with this on \"1D_Problem_Notebook2.ipynb\" before moving the function to the evolutionTools.py script."
   ]
  },
  {
   "cell_type": "code",
   "execution_count": 2,
   "id": "42751cf4",
   "metadata": {},
   "outputs": [
    {
     "name": "stdout",
     "output_type": "stream",
     "text": [
      "Already Processed.\n"
     ]
    }
   ],
   "source": [
    "evt.getUpperWaveformFrames(\"007MA_Left_20160304_140907.avi\")"
   ]
  },
  {
   "cell_type": "code",
   "execution_count": 3,
   "id": "e1cfef28",
   "metadata": {},
   "outputs": [
    {
     "name": "stdout",
     "output_type": "stream",
     "text": [
      "Already Processed.\n"
     ]
    }
   ],
   "source": [
    "evt.formattedImageCreator_upper(\"007MA_Left_20160304_140907.avi\")"
   ]
  },
  {
   "cell_type": "code",
   "execution_count": 4,
   "id": "85710176",
   "metadata": {},
   "outputs": [
    {
     "name": "stdout",
     "output_type": "stream",
     "text": [
      "Already processed.\n"
     ]
    }
   ],
   "source": [
    "evt.generate_video_upper(\"007MA_Left_20160304_140907.avi\")"
   ]
  },
  {
   "cell_type": "markdown",
   "id": "b41493cc",
   "metadata": {},
   "source": [
    "Fortunately, it seems to work quite well. We do this for the next two videos then run the potential profile movies as well with this upper waveform. An improvment for the future could be function template setting by providing default arguments, but that is not the purpose at hand, and anyway we can do that for the more relevant 2D problem."
   ]
  },
  {
   "cell_type": "markdown",
   "id": "618abbb4",
   "metadata": {},
   "source": [
    "### Upper Waveform Evolution"
   ]
  },
  {
   "cell_type": "code",
   "execution_count": 2,
   "id": "fc1b639d",
   "metadata": {},
   "outputs": [
    {
     "name": "stdout",
     "output_type": "stream",
     "text": [
      "Already Processed.\n"
     ]
    }
   ],
   "source": [
    "evt.getUpperWaveformFrames(\"001BA_Left_20160203_132002.avi\")"
   ]
  },
  {
   "cell_type": "code",
   "execution_count": 3,
   "id": "546da613",
   "metadata": {},
   "outputs": [
    {
     "name": "stdout",
     "output_type": "stream",
     "text": [
      "Already Processed.\n"
     ]
    }
   ],
   "source": [
    "evt.formattedImageCreator_upper(\"001BA_Left_20160203_132002.avi\")"
   ]
  },
  {
   "cell_type": "code",
   "execution_count": 4,
   "id": "621d437f",
   "metadata": {},
   "outputs": [
    {
     "name": "stdout",
     "output_type": "stream",
     "text": [
      "Already processed.\n"
     ]
    }
   ],
   "source": [
    "evt.generate_video_upper(\"001BA_Left_20160203_132002.avi\")"
   ]
  },
  {
   "cell_type": "code",
   "execution_count": 5,
   "id": "f0c844de",
   "metadata": {},
   "outputs": [
    {
     "name": "stdout",
     "output_type": "stream",
     "text": [
      "Already Processed.\n"
     ]
    }
   ],
   "source": [
    "evt.getUpperWaveformFrames(\"003HA_Right_20160129_110735.avi\")"
   ]
  },
  {
   "cell_type": "code",
   "execution_count": 6,
   "id": "c17ad222",
   "metadata": {},
   "outputs": [
    {
     "name": "stdout",
     "output_type": "stream",
     "text": [
      "Already Processed.\n"
     ]
    }
   ],
   "source": [
    "evt.formattedImageCreator_upper(\"003HA_Right_20160129_110735.avi\")"
   ]
  },
  {
   "cell_type": "code",
   "execution_count": 7,
   "id": "4cdea948",
   "metadata": {},
   "outputs": [
    {
     "name": "stdout",
     "output_type": "stream",
     "text": [
      "Already processed.\n"
     ]
    }
   ],
   "source": [
    "evt.generate_video_upper(\"003HA_Right_20160129_110735.avi\")"
   ]
  },
  {
   "cell_type": "markdown",
   "id": "5a659824",
   "metadata": {},
   "source": [
    "# Further Improvements"
   ]
  },
  {
   "cell_type": "markdown",
   "id": "3e1cff03",
   "metadata": {},
   "source": [
    "We finish the tests on all the upper-line movies, then we can try to allow global rigid-body-like translation (which requires an energy function modification.)"
   ]
  },
  {
   "cell_type": "code",
   "execution_count": 4,
   "id": "13fea561",
   "metadata": {},
   "outputs": [
    {
     "name": "stdout",
     "output_type": "stream",
     "text": [
      "Already Processed.\n"
     ]
    }
   ],
   "source": [
    "evt.get_upper_V_x_Frames(\"001BA_Left_20160203_132002.avi\")"
   ]
  },
  {
   "cell_type": "code",
   "execution_count": 3,
   "id": "35bdfe8c",
   "metadata": {},
   "outputs": [
    {
     "name": "stdout",
     "output_type": "stream",
     "text": [
      "Already Processed.\n"
     ]
    }
   ],
   "source": [
    "evt.get_upper_V_x_Frames(\"003HA_Right_20160129_110735.avi\")"
   ]
  },
  {
   "cell_type": "code",
   "execution_count": 2,
   "id": "91164e74",
   "metadata": {},
   "outputs": [
    {
     "name": "stdout",
     "output_type": "stream",
     "text": [
      "Already Processed.\n"
     ]
    }
   ],
   "source": [
    "evt.get_upper_V_x_Frames(\"007MA_Left_20160304_140907.avi\")"
   ]
  },
  {
   "cell_type": "code",
   "execution_count": 5,
   "id": "ecf5fe37",
   "metadata": {},
   "outputs": [],
   "source": [
    "evt.formattedImageCreator_V_x_UPPER(\"001BA_Left_20160203_132002.avi\")"
   ]
  },
  {
   "cell_type": "code",
   "execution_count": 6,
   "id": "f0353db8",
   "metadata": {},
   "outputs": [],
   "source": [
    "evt.formattedImageCreator_V_x_UPPER(\"003HA_Right_20160129_110735.avi\")"
   ]
  },
  {
   "cell_type": "code",
   "execution_count": 7,
   "id": "4158d951",
   "metadata": {},
   "outputs": [],
   "source": [
    "evt.formattedImageCreator_V_x_UPPER(\"007MA_Left_20160304_140907.avi\")"
   ]
  },
  {
   "cell_type": "code",
   "execution_count": 8,
   "id": "67c03d83",
   "metadata": {},
   "outputs": [],
   "source": [
    "evt.generate_video_V_x_UPPER(\"001BA_Left_20160203_132002.avi\")"
   ]
  },
  {
   "cell_type": "code",
   "execution_count": 9,
   "id": "45240b35",
   "metadata": {},
   "outputs": [],
   "source": [
    "evt.generate_video_V_x_UPPER(\"003HA_Right_20160129_110735.avi\")"
   ]
  },
  {
   "cell_type": "code",
   "execution_count": 10,
   "id": "1c031599",
   "metadata": {},
   "outputs": [],
   "source": [
    "evt.generate_video_V_x_UPPER(\"007MA_Left_20160304_140907.avi\")"
   ]
  },
  {
   "cell_type": "markdown",
   "id": "f7e0e2f3",
   "metadata": {},
   "source": [
    "### Polynomial Error"
   ]
  },
  {
   "cell_type": "code",
   "execution_count": 11,
   "id": "3426ab46",
   "metadata": {},
   "outputs": [],
   "source": [
    "evt.getUpperErrorFrames(\"001BA_Left_20160203_132002.avi\")"
   ]
  },
  {
   "cell_type": "code",
   "execution_count": 12,
   "id": "430a6c13",
   "metadata": {},
   "outputs": [],
   "source": [
    "evt.getUpperErrorFrames(\"003HA_Right_20160129_110735.avi\")"
   ]
  },
  {
   "cell_type": "code",
   "execution_count": 13,
   "id": "7354dc32",
   "metadata": {},
   "outputs": [],
   "source": [
    "evt.getUpperErrorFrames(\"007MA_Left_20160304_140907.avi\")"
   ]
  },
  {
   "cell_type": "code",
   "execution_count": 14,
   "id": "ae44ab86",
   "metadata": {},
   "outputs": [],
   "source": [
    "evt.formattedImageCreator_upperERROR(\"001BA_Left_20160203_132002.avi\")"
   ]
  },
  {
   "cell_type": "code",
   "execution_count": 15,
   "id": "e570f63f",
   "metadata": {},
   "outputs": [],
   "source": [
    "evt.formattedImageCreator_upperERROR(\"003HA_Right_20160129_110735.avi\")"
   ]
  },
  {
   "cell_type": "code",
   "execution_count": 16,
   "id": "4e087065",
   "metadata": {},
   "outputs": [],
   "source": [
    "evt.formattedImageCreator_upperERROR(\"007MA_Left_20160304_140907.avi\")"
   ]
  },
  {
   "cell_type": "code",
   "execution_count": 18,
   "id": "37a933b3",
   "metadata": {},
   "outputs": [],
   "source": [
    "evt.generate_video_upperERROR(\"001BA_Left_20160203_132002.avi\")"
   ]
  },
  {
   "cell_type": "code",
   "execution_count": 19,
   "id": "e0d62be1",
   "metadata": {},
   "outputs": [],
   "source": [
    "evt.generate_video_upperERROR(\"003HA_Right_20160129_110735.avi\")"
   ]
  },
  {
   "cell_type": "code",
   "execution_count": 20,
   "id": "b6c932be",
   "metadata": {},
   "outputs": [],
   "source": [
    "evt.generate_video_upperERROR(\"007MA_Left_20160304_140907.avi\")"
   ]
  },
  {
   "cell_type": "markdown",
   "id": "a909407d",
   "metadata": {},
   "source": [
    "### Potential Energy Time Evolution (on upper waveform.)"
   ]
  },
  {
   "cell_type": "code",
   "execution_count": 2,
   "id": "0f1b5f40",
   "metadata": {},
   "outputs": [
    {
     "name": "stdout",
     "output_type": "stream",
     "text": [
      "Processing Frame: 1\n",
      "Processing Frame: 2\n",
      "Processing Frame: 3\n",
      "Processing Frame: 4\n",
      "Processing Frame: 5\n",
      "Processing Frame: 6\n",
      "Processing Frame: 7\n",
      "Processing Frame: 8\n",
      "Processing Frame: 9\n",
      "Processing Frame: 10\n",
      "Processing Frame: 11\n",
      "Processing Frame: 12\n",
      "Processing Frame: 13\n",
      "Processing Frame: 14\n",
      "Processing Frame: 15\n",
      "Processing Frame: 16\n",
      "Processing Frame: 17\n",
      "Processing Frame: 18\n",
      "Processing Frame: 19\n",
      "Processing Frame: 20\n",
      "Processing Frame: 21\n",
      "Processing Frame: 22\n",
      "Processing Frame: 23\n",
      "Processing Frame: 24\n",
      "Processing Frame: 25\n",
      "Processing Frame: 26\n",
      "Processing Frame: 27\n",
      "Processing Frame: 28\n",
      "Processing Frame: 29\n",
      "Processing Frame: 30\n",
      "Processing Frame: 31\n",
      "Processing Frame: 32\n",
      "Processing Frame: 33\n",
      "Processing Frame: 34\n",
      "Processing Frame: 35\n",
      "Processing Frame: 36\n",
      "Processing Frame: 37\n",
      "Processing Frame: 38\n",
      "Processing Frame: 39\n",
      "Processing Frame: 40\n",
      "Processing Frame: 41\n",
      "Processing Frame: 42\n",
      "Processing Frame: 43\n",
      "Processing Frame: 44\n",
      "Processing Frame: 45\n",
      "Processing Frame: 46\n",
      "Processing Frame: 47\n",
      "Processing Frame: 48\n",
      "Processing Frame: 49\n",
      "Processing Frame: 50\n",
      "Processing Frame: 51\n",
      "Processing Frame: 52\n",
      "Processing Frame: 53\n",
      "Processing Frame: 54\n",
      "Processing Frame: 55\n",
      "Processing Frame: 56\n",
      "Processing Frame: 57\n",
      "Processing Frame: 58\n",
      "Processing Frame: 59\n",
      "Processing Frame: 60\n",
      "Processing Frame: 61\n",
      "Processing Frame: 62\n",
      "Processing Frame: 63\n",
      "Processing Frame: 64\n",
      "Processing Frame: 65\n",
      "Processing Frame: 66\n",
      "Processing Frame: 67\n",
      "Processing Frame: 68\n",
      "Processing Frame: 69\n",
      "Processing Frame: 70\n",
      "Processing Frame: 71\n",
      "Processing Frame: 72\n",
      "Processing Frame: 73\n",
      "Processing Frame: 74\n",
      "Processing Frame: 75\n",
      "Processing Frame: 76\n",
      "Processing Frame: 77\n",
      "Processing Frame: 78\n",
      "Processing Frame: 79\n",
      "Processing Frame: 80\n",
      "Processing Frame: 81\n",
      "Processing Frame: 82\n",
      "Processing Frame: 83\n",
      "Processing Frame: 84\n",
      "Processing Frame: 85\n",
      "Processing Frame: 86\n",
      "Processing Frame: 87\n",
      "Processing Frame: 88\n",
      "Processing Frame: 89\n",
      "Processing Frame: 90\n",
      "Processing Frame: 91\n",
      "Processing Frame: 92\n",
      "Processing Frame: 93\n",
      "Processing Frame: 94\n",
      "Processing Frame: 95\n",
      "Processing Frame: 96\n",
      "Processing Frame: 97\n",
      "Processing Frame: 98\n",
      "Processing Frame: 99\n",
      "Processing Frame: 100\n",
      "Processing Frame: 101\n",
      "Processing Frame: 102\n",
      "Processing Frame: 103\n",
      "Processing Frame: 104\n",
      "Processing Frame: 105\n",
      "Processing Frame: 106\n",
      "Processing Frame: 107\n",
      "Processing Frame: 108\n",
      "Processing Frame: 109\n",
      "Processing Frame: 110\n",
      "Processing Frame: 111\n",
      "Processing Frame: 112\n",
      "Processing Frame: 113\n",
      "Processing Frame: 114\n",
      "Processing Frame: 115\n",
      "Processing Frame: 116\n",
      "Processing Frame: 117\n",
      "Processing Frame: 118\n",
      "Processing Frame: 119\n",
      "Processing Frame: 120\n",
      "Processing Frame: 121\n",
      "Processing Frame: 122\n",
      "Processing Frame: 123\n",
      "Processing Frame: 124\n",
      "Processing Frame: 125\n",
      "Processing Frame: 126\n",
      "Processing Frame: 127\n",
      "Processing Frame: 128\n",
      "Processing Frame: 129\n",
      "Processing Frame: 130\n",
      "Processing Frame: 131\n",
      "Processing Frame: 132\n",
      "Processing Frame: 133\n",
      "Processing Frame: 134\n",
      "Processing Frame: 135\n",
      "Processing Frame: 136\n",
      "Processing Frame: 137\n",
      "Processing Frame: 138\n",
      "Processing Frame: 139\n"
     ]
    },
    {
     "data": {
      "image/png": "[encoded data removed]",
      "text/plain": [
       "<Figure size 864x576 with 1 Axes>"
      ]
     },
     "metadata": {
      "needs_background": "light"
     },
     "output_type": "display_data"
    }
   ],
   "source": [
    "evt.getEvolution_V_t(\"001BA_Left_20160203_132002.avi\", 1, \"up\")"
   ]
  },
  {
   "cell_type": "code",
   "execution_count": 3,
   "id": "50981c22",
   "metadata": {},
   "outputs": [
    {
     "name": "stdout",
     "output_type": "stream",
     "text": [
      "Processing Frame: 1\n",
      "Processing Frame: 2\n",
      "Processing Frame: 3\n",
      "Processing Frame: 4\n",
      "Processing Frame: 5\n",
      "Processing Frame: 6\n",
      "Processing Frame: 7\n",
      "Processing Frame: 8\n",
      "Processing Frame: 9\n",
      "Processing Frame: 10\n",
      "Processing Frame: 11\n",
      "Processing Frame: 12\n",
      "Processing Frame: 13\n",
      "Processing Frame: 14\n",
      "Processing Frame: 15\n",
      "Processing Frame: 16\n",
      "Processing Frame: 17\n",
      "Processing Frame: 18\n",
      "Processing Frame: 19\n",
      "Processing Frame: 20\n",
      "Processing Frame: 21\n",
      "Processing Frame: 22\n",
      "Processing Frame: 23\n",
      "Processing Frame: 24\n",
      "Processing Frame: 25\n",
      "Processing Frame: 26\n",
      "Processing Frame: 27\n",
      "Processing Frame: 28\n",
      "Processing Frame: 29\n",
      "Processing Frame: 30\n",
      "Processing Frame: 31\n",
      "Processing Frame: 32\n",
      "Processing Frame: 33\n",
      "Processing Frame: 34\n",
      "Processing Frame: 35\n",
      "Processing Frame: 36\n",
      "Processing Frame: 37\n",
      "Processing Frame: 38\n",
      "Processing Frame: 39\n",
      "Processing Frame: 40\n",
      "Processing Frame: 41\n",
      "Processing Frame: 42\n",
      "Processing Frame: 43\n",
      "Processing Frame: 44\n",
      "Processing Frame: 45\n",
      "Processing Frame: 46\n",
      "Processing Frame: 47\n",
      "Processing Frame: 48\n",
      "Processing Frame: 49\n",
      "Processing Frame: 50\n",
      "Processing Frame: 51\n",
      "Processing Frame: 52\n",
      "Processing Frame: 53\n",
      "Processing Frame: 54\n",
      "Processing Frame: 55\n",
      "Processing Frame: 56\n",
      "Processing Frame: 57\n",
      "Processing Frame: 58\n",
      "Processing Frame: 59\n",
      "Processing Frame: 60\n",
      "Processing Frame: 61\n",
      "Processing Frame: 62\n",
      "Processing Frame: 63\n",
      "Processing Frame: 64\n",
      "Processing Frame: 65\n",
      "Processing Frame: 66\n",
      "Processing Frame: 67\n",
      "Processing Frame: 68\n",
      "Processing Frame: 69\n",
      "Processing Frame: 70\n",
      "Processing Frame: 71\n",
      "Processing Frame: 72\n",
      "Processing Frame: 73\n",
      "Processing Frame: 74\n",
      "Processing Frame: 75\n",
      "Processing Frame: 76\n",
      "Processing Frame: 77\n",
      "Processing Frame: 78\n",
      "Processing Frame: 79\n",
      "Processing Frame: 80\n",
      "Processing Frame: 81\n",
      "Processing Frame: 82\n",
      "Processing Frame: 83\n",
      "Processing Frame: 84\n",
      "Processing Frame: 85\n",
      "Processing Frame: 86\n",
      "Processing Frame: 87\n",
      "Processing Frame: 88\n",
      "Processing Frame: 89\n",
      "Processing Frame: 90\n",
      "Processing Frame: 91\n",
      "Processing Frame: 92\n",
      "Processing Frame: 93\n",
      "Processing Frame: 94\n",
      "Processing Frame: 95\n",
      "Processing Frame: 96\n",
      "Processing Frame: 97\n",
      "Processing Frame: 98\n",
      "Processing Frame: 99\n",
      "Processing Frame: 100\n",
      "Processing Frame: 101\n",
      "Processing Frame: 102\n",
      "Processing Frame: 103\n",
      "Processing Frame: 104\n",
      "Processing Frame: 105\n",
      "Processing Frame: 106\n",
      "Processing Frame: 107\n",
      "Processing Frame: 108\n",
      "Processing Frame: 109\n",
      "Processing Frame: 110\n",
      "Processing Frame: 111\n",
      "Processing Frame: 112\n",
      "Processing Frame: 113\n",
      "Processing Frame: 114\n",
      "Processing Frame: 115\n",
      "Processing Frame: 116\n",
      "Processing Frame: 117\n",
      "Processing Frame: 118\n",
      "Processing Frame: 119\n",
      "Processing Frame: 120\n",
      "Processing Frame: 121\n",
      "Processing Frame: 122\n",
      "Processing Frame: 123\n",
      "Processing Frame: 124\n",
      "Processing Frame: 125\n",
      "Processing Frame: 126\n",
      "Processing Frame: 127\n",
      "Processing Frame: 128\n",
      "Processing Frame: 129\n",
      "Processing Frame: 130\n",
      "Processing Frame: 131\n",
      "Processing Frame: 132\n",
      "Processing Frame: 133\n",
      "Processing Frame: 134\n",
      "Processing Frame: 135\n",
      "Processing Frame: 136\n",
      "Processing Frame: 137\n",
      "Processing Frame: 138\n",
      "Processing Frame: 139\n"
     ]
    },
    {
     "data": {
      "image/png": "[encoded data removed]",
      "text/plain": [
       "<Figure size 864x576 with 1 Axes>"
      ]
     },
     "metadata": {
      "needs_background": "light"
     },
     "output_type": "display_data"
    }
   ],
   "source": [
    "evt.getEvolution_V_t(\"003HA_Right_20160129_110735.avi\", 1, \"up\")"
   ]
  },
  {
   "cell_type": "code",
   "execution_count": 4,
   "id": "c0df143d",
   "metadata": {},
   "outputs": [
    {
     "name": "stdout",
     "output_type": "stream",
     "text": [
      "Processing Frame: 1\n",
      "Processing Frame: 2\n",
      "Processing Frame: 3\n",
      "Processing Frame: 4\n",
      "Processing Frame: 5\n",
      "Processing Frame: 6\n",
      "Processing Frame: 7\n",
      "Processing Frame: 8\n",
      "Processing Frame: 9\n",
      "Processing Frame: 10\n",
      "Processing Frame: 11\n",
      "Processing Frame: 12\n",
      "Processing Frame: 13\n",
      "Processing Frame: 14\n",
      "Processing Frame: 15\n",
      "Processing Frame: 16\n",
      "Processing Frame: 17\n",
      "Processing Frame: 18\n",
      "Processing Frame: 19\n",
      "Processing Frame: 20\n",
      "Processing Frame: 21\n",
      "Processing Frame: 22\n",
      "Processing Frame: 23\n",
      "Processing Frame: 24\n",
      "Processing Frame: 25\n",
      "Processing Frame: 26\n",
      "Processing Frame: 27\n",
      "Processing Frame: 28\n",
      "Processing Frame: 29\n",
      "Processing Frame: 30\n",
      "Processing Frame: 31\n",
      "Processing Frame: 32\n",
      "Processing Frame: 33\n",
      "Processing Frame: 34\n",
      "Processing Frame: 35\n",
      "Processing Frame: 36\n",
      "Processing Frame: 37\n",
      "Processing Frame: 38\n",
      "Processing Frame: 39\n",
      "Processing Frame: 40\n",
      "Processing Frame: 41\n",
      "Processing Frame: 42\n",
      "Processing Frame: 43\n",
      "Processing Frame: 44\n",
      "Processing Frame: 45\n",
      "Processing Frame: 46\n",
      "Processing Frame: 47\n",
      "Processing Frame: 48\n",
      "Processing Frame: 49\n",
      "Processing Frame: 50\n",
      "Processing Frame: 51\n",
      "Processing Frame: 52\n",
      "Processing Frame: 53\n",
      "Processing Frame: 54\n",
      "Processing Frame: 55\n",
      "Processing Frame: 56\n",
      "Processing Frame: 57\n",
      "Processing Frame: 58\n",
      "Processing Frame: 59\n",
      "Processing Frame: 60\n",
      "Processing Frame: 61\n",
      "Processing Frame: 62\n",
      "Processing Frame: 63\n",
      "Processing Frame: 64\n",
      "Processing Frame: 65\n",
      "Processing Frame: 66\n",
      "Processing Frame: 67\n",
      "Processing Frame: 68\n",
      "Processing Frame: 69\n",
      "Processing Frame: 70\n",
      "Processing Frame: 71\n",
      "Processing Frame: 72\n",
      "Processing Frame: 73\n",
      "Processing Frame: 74\n",
      "Processing Frame: 75\n",
      "Processing Frame: 76\n",
      "Processing Frame: 77\n",
      "Processing Frame: 78\n",
      "Processing Frame: 79\n",
      "Processing Frame: 80\n",
      "Processing Frame: 81\n",
      "Processing Frame: 82\n",
      "Processing Frame: 83\n",
      "Processing Frame: 84\n",
      "Processing Frame: 85\n",
      "Processing Frame: 86\n",
      "Processing Frame: 87\n",
      "Processing Frame: 88\n",
      "Processing Frame: 89\n",
      "Processing Frame: 90\n",
      "Processing Frame: 91\n",
      "Processing Frame: 92\n",
      "Processing Frame: 93\n",
      "Processing Frame: 94\n",
      "Processing Frame: 95\n",
      "Processing Frame: 96\n",
      "Processing Frame: 97\n",
      "Processing Frame: 98\n",
      "Processing Frame: 99\n",
      "Processing Frame: 100\n",
      "Processing Frame: 101\n",
      "Processing Frame: 102\n",
      "Processing Frame: 103\n",
      "Processing Frame: 104\n",
      "Processing Frame: 105\n",
      "Processing Frame: 106\n",
      "Processing Frame: 107\n",
      "Processing Frame: 108\n",
      "Processing Frame: 109\n",
      "Processing Frame: 110\n",
      "Processing Frame: 111\n",
      "Processing Frame: 112\n",
      "Processing Frame: 113\n",
      "Processing Frame: 114\n",
      "Processing Frame: 115\n",
      "Processing Frame: 116\n",
      "Processing Frame: 117\n",
      "Processing Frame: 118\n",
      "Processing Frame: 119\n",
      "Processing Frame: 120\n",
      "Processing Frame: 121\n",
      "Processing Frame: 122\n",
      "Processing Frame: 123\n",
      "Processing Frame: 124\n",
      "Processing Frame: 125\n",
      "Processing Frame: 126\n",
      "Processing Frame: 127\n",
      "Processing Frame: 128\n",
      "Processing Frame: 129\n",
      "Processing Frame: 130\n",
      "Processing Frame: 131\n",
      "Processing Frame: 132\n",
      "Processing Frame: 133\n",
      "Processing Frame: 134\n",
      "Processing Frame: 135\n",
      "Processing Frame: 136\n",
      "Processing Frame: 137\n",
      "Processing Frame: 138\n",
      "Processing Frame: 139\n"
     ]
    },
    {
     "data": {
      "image/png": "[encoded data removed]",
      "text/plain": [
       "<Figure size 864x576 with 1 Axes>"
      ]
     },
     "metadata": {
      "needs_background": "light"
     },
     "output_type": "display_data"
    }
   ],
   "source": [
    "evt.getEvolution_V_t(\"007MA_Left_20160304_140907.avi\", 1, \"up\")"
   ]
  },
  {
   "cell_type": "markdown",
   "id": "191cc5ef",
   "metadata": {},
   "source": [
    "For the above functions to work, we have adapted the evolution function on the evolutionTools.py script from what it is shown to be in the second notebook of the 1D problem."
   ]
  }
 ],
 "metadata": {
  "kernelspec": {
   "display_name": "Python 3 (ipykernel)",
   "language": "python",
   "name": "python3"
  },
  "language_info": {
   "codemirror_mode": {
    "name": "ipython",
    "version": 3
   },
   "file_extension": ".py",
   "mimetype": "text/x-python",
   "name": "python",
   "nbconvert_exporter": "python",
   "pygments_lexer": "ipython3",
   "version": "3.9.12"
  }
 },
 "nbformat": 4,
 "nbformat_minor": 5
}
