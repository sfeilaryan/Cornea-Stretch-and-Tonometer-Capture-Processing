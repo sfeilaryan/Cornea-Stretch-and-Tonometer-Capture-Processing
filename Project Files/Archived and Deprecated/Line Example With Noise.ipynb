{
 "cells": [
  {
   "cell_type": "markdown",
   "metadata": {},
   "source": [
    "# Objectives"
   ]
  },
  {
   "cell_type": "markdown",
   "metadata": {},
   "source": [
    "In this notebook, we will focus on on the following objectives:\n",
    "\n",
    "- Constructing a diagnostic test by hard coding a straight line that stretches with no bending and remains on a fixed line throughout the entire deformation.\n",
    "\n",
    "- Perhaps modifying the algorithm that finds the equilibrium displacements to allow rigid body movement.\n",
    "\n",
    "- Removing the early polynomial fitting to instead use cornea tagged points directly and performing a very local fit at the end to get the new node positions. "
   ]
  },
  {
   "cell_type": "markdown",
   "metadata": {},
   "source": [
    "We first import the required modules."
   ]
  },
  {
   "cell_type": "code",
   "execution_count": 1,
   "metadata": {},
   "outputs": [
    {
     "name": "stderr",
     "output_type": "stream",
     "text": [
      "/opt/anaconda3/lib/python3.9/site-packages/scipy/__init__.py:146: UserWarning: A NumPy version >=1.16.5 and <1.23.0 is required for this version of SciPy (detected version 1.26.4\n",
      "  warnings.warn(f\"A NumPy version >={np_minversion} and <{np_maxversion}\"\n"
     ]
    }
   ],
   "source": [
    "import evolutionTools as evt\n",
    "import numpy as np\n",
    "import pandas as pd\n",
    "import os\n",
    "import matplotlib.pyplot as plt\n",
    "import cv2\n",
    "from copy import deepcopy"
   ]
  },
  {
   "cell_type": "code",
   "execution_count": 2,
   "metadata": {},
   "outputs": [],
   "source": [
    "starting_horizontal_points = np.linspace(0, 500, evt.N + 2)\n",
    "static_y = np.zeros(starting_horizontal_points.shape[0])\n",
    "initial_lengths = evt.initialLengthsFinder(starting_horizontal_points, static_y)"
   ]
  },
  {
   "cell_type": "markdown",
   "metadata": {},
   "source": [
    "We will now stretch the line by only moving the extremities; this is because the edge displacements are forced to be zero by our minimizing algorithm, so we alter them and let the algorithm play on the displacement of the other nodes. We construct a time series using linear interpolation for a stretch that ends up doubling the initial length."
   ]
  },
  {
   "cell_type": "code",
   "execution_count": 3,
   "metadata": {},
   "outputs": [],
   "source": [
    "time_steps_stretch = 80\n",
    "time_steps_contract = 100"
   ]
  },
  {
   "cell_type": "code",
   "execution_count": 4,
   "metadata": {},
   "outputs": [],
   "source": [
    "displacements_stretch = np.linspace(0, 500, time_steps_stretch)\n",
    "displacements_contract = np.linspace(0, 500, time_steps_contract)[::-1]\n",
    "total_time_steps = time_steps_stretch + time_steps_contract"
   ]
  },
  {
   "cell_type": "code",
   "execution_count": 5,
   "metadata": {},
   "outputs": [],
   "source": [
    "total_displacement_array = []\n",
    "for i in displacements_stretch:\n",
    "    total_displacement_array.append(i)\n",
    "for j in displacements_contract:\n",
    "    total_displacement_array.append(j)\n",
    "total_displacement_array = np.array(total_displacement_array)"
   ]
  },
  {
   "cell_type": "code",
   "execution_count": 6,
   "metadata": {},
   "outputs": [],
   "source": [
    "x_node_array = np.zeros((total_time_steps, starting_horizontal_points.shape[0]))\n",
    "for i in range(x_node_array.shape[0]):\n",
    "    #print(starting_horizontal_points)\n",
    "    x_node_array[i] = starting_horizontal_points\n",
    "    x_node_array[i][0] -= total_displacement_array[i]\n",
    "    x_node_array[i][-1] += total_displacement_array[i]\n",
    "    #print(x_node_array[i][-5:])"
   ]
  },
  {
   "cell_type": "code",
   "execution_count": 7,
   "metadata": {},
   "outputs": [],
   "source": [
    "initial_guess = np.zeros(evt.N)\n",
    "K_arr = np.ones(evt.N+1)"
   ]
  },
  {
   "cell_type": "code",
   "execution_count": 8,
   "metadata": {},
   "outputs": [],
   "source": [
    "def add_noise(array, max_length_frac = 0.02):\n",
    "    length = np.abs(array[0] - array[-1])\n",
    "    return array + np.random.uniform(-1, 1) * max_length_frac * length"
   ]
  },
  {
   "cell_type": "code",
   "execution_count": 9,
   "metadata": {},
   "outputs": [
    {
     "name": "stdout",
     "output_type": "stream",
     "text": [
      "0\n",
      "1\n",
      "2\n",
      "3\n",
      "4\n",
      "5\n",
      "6\n",
      "7\n",
      "8\n",
      "9\n",
      "10\n",
      "11\n",
      "12\n",
      "13\n",
      "14\n",
      "15\n",
      "16\n",
      "17\n",
      "18\n",
      "19\n",
      "20\n",
      "21\n",
      "22\n",
      "23\n",
      "24\n",
      "25\n",
      "26\n",
      "27\n",
      "28\n",
      "29\n",
      "30\n",
      "31\n",
      "32\n",
      "33\n",
      "34\n",
      "35\n",
      "36\n",
      "37\n",
      "38\n",
      "39\n",
      "40\n",
      "41\n",
      "42\n",
      "43\n",
      "44\n",
      "45\n",
      "46\n",
      "47\n",
      "48\n",
      "49\n",
      "50\n",
      "51\n",
      "52\n",
      "53\n",
      "54\n",
      "55\n",
      "56\n",
      "57\n",
      "58\n",
      "59\n",
      "60\n",
      "61\n",
      "62\n",
      "63\n",
      "64\n",
      "65\n",
      "66\n",
      "67\n",
      "68\n",
      "69\n",
      "70\n",
      "71\n",
      "72\n",
      "73\n",
      "74\n",
      "75\n",
      "76\n",
      "77\n",
      "78\n",
      "79\n",
      "80\n",
      "81\n",
      "82\n",
      "83\n",
      "84\n",
      "85\n",
      "86\n",
      "87\n",
      "88\n",
      "89\n",
      "90\n",
      "91\n",
      "92\n",
      "93\n",
      "94\n",
      "95\n",
      "96\n",
      "97\n",
      "98\n",
      "99\n",
      "100\n",
      "101\n",
      "102\n",
      "103\n",
      "104\n",
      "105\n",
      "106\n",
      "107\n",
      "108\n",
      "109\n",
      "110\n",
      "111\n",
      "112\n",
      "113\n",
      "114\n",
      "115\n",
      "116\n",
      "117\n",
      "118\n",
      "119\n",
      "120\n",
      "121\n",
      "122\n",
      "123\n",
      "124\n",
      "125\n",
      "126\n",
      "127\n",
      "128\n",
      "129\n",
      "130\n",
      "131\n",
      "132\n",
      "133\n",
      "134\n",
      "135\n",
      "136\n",
      "137\n",
      "138\n",
      "139\n",
      "140\n",
      "141\n",
      "142\n",
      "143\n",
      "144\n",
      "145\n",
      "146\n",
      "147\n",
      "148\n",
      "149\n",
      "150\n",
      "151\n",
      "152\n",
      "153\n",
      "154\n",
      "155\n",
      "156\n",
      "157\n",
      "158\n",
      "159\n",
      "160\n",
      "161\n",
      "162\n",
      "163\n",
      "164\n",
      "165\n",
      "166\n",
      "167\n",
      "168\n",
      "169\n",
      "170\n",
      "171\n",
      "172\n",
      "173\n",
      "174\n",
      "175\n",
      "176\n",
      "177\n",
      "178\n",
      "179\n"
     ]
    }
   ],
   "source": [
    "U_array = []\n",
    "displacements_array = []\n",
    "for i in range(total_time_steps):\n",
    "    print(i)\n",
    "    noisy_x = add_noise(x_node_array[i])\n",
    "    noisy_y = add_noise(static_y)\n",
    "    displacements = evt.minimize(evt.potentialEnergy, initial_guess, args = (noisy_x, noisy_y, initial_lengths, K_arr)).x\n",
    "    initial_guess = displacements\n",
    "    displacements_array.append(displacements)\n",
    "    U_pot = evt.potentialEnergy(displacements, noisy_x, noisy_y, initial_lengths, K_arr)\n",
    "    U_array.append(U_pot)"
   ]
  },
  {
   "cell_type": "code",
   "execution_count": 10,
   "metadata": {},
   "outputs": [],
   "source": [
    "example_data_displacement = pd.DataFrame(displacements_array)"
   ]
  },
  {
   "cell_type": "code",
   "execution_count": 11,
   "metadata": {},
   "outputs": [],
   "source": [
    "example_data_displacement.to_csv('line_example/line_example_noise_displacements.csv', index = False)"
   ]
  },
  {
   "cell_type": "code",
   "execution_count": 12,
   "metadata": {},
   "outputs": [],
   "source": [
    "example_data_potential = pd.DataFrame(U_array) # type: ignore"
   ]
  },
  {
   "cell_type": "code",
   "execution_count": 13,
   "metadata": {},
   "outputs": [],
   "source": [
    "example_data_potential.to_csv('line_example/line_example_noise_potential.csv', index = False)"
   ]
  },
  {
   "cell_type": "code",
   "execution_count": 14,
   "metadata": {},
   "outputs": [],
   "source": [
    "displacements = pd.read_csv('line_example/line_example_noise_displacements.csv').to_numpy()\n",
    "potential = pd.read_csv('line_example/line_example_noise_potential.csv').to_numpy()[:,0]"
   ]
  },
  {
   "cell_type": "markdown",
   "metadata": {},
   "source": [
    "Let us generate a video of the potential profile's evolution."
   ]
  },
  {
   "cell_type": "code",
   "execution_count": 15,
   "metadata": {},
   "outputs": [],
   "source": [
    "def formatted_frames(frames_directory, new_directory): #only new with /\n",
    "    \n",
    "    path = frames_directory\n",
    "    mean_height = 0\n",
    "    mean_width = 0\n",
    "  \n",
    "    num_of_images = len(os.listdir(path))\n",
    "    \n",
    "    for file in os.listdir(path): \n",
    "        im = evt.Image.open(os.path.join(path, file)) \n",
    "        width, height = im.size \n",
    "        mean_width += width \n",
    "        mean_height += height\n",
    "    \n",
    "    mean_width = int(mean_width / num_of_images) \n",
    "    mean_height = int(mean_height / num_of_images)\n",
    "    \n",
    "    imageIterator = 0\n",
    "    \n",
    "    while imageIterator <= num_of_images-1:\n",
    "        imageName = str(imageIterator).zfill(3) + \".png\"\n",
    "        im = evt.Image.open(os.path.join(path, imageName))\n",
    "        \n",
    "        width, height = im.size \n",
    "        \n",
    "        # resizing  \n",
    "        imResize = im.resize((mean_width, mean_height), evt.Image.ANTIALIAS)  \n",
    "        imResize.save(new_directory+str(imageIterator).zfill(3)+\".png\", quality = 95) # setting quality\n",
    "        imageIterator+=1\n",
    "\n",
    "# def generate_video(frames_directory, output_name):\n",
    "#     image_folder = frames_directory\n",
    "#     video_name = output_name\n",
    "    \n",
    "#     #must create the image array\n",
    "    \n",
    "#     num_of_images = len(os.listdir(image_folder))\n",
    "#     imageIterator = 0\n",
    "#     images=[]\n",
    "    \n",
    "#     while imageIterator <= num_of_images-1:\n",
    "#         imageName = os.path.join(image_folder, str(imageIterator).zfill(3)+\".png\")\n",
    "#         images.append(imageName)\n",
    "#         imageIterator+=1\n",
    "#     #print(images)\n",
    "    \n",
    "#     frame = evt.cv2.imread(images[0]) \n",
    "#     # setting the frame width, height width \n",
    "#     # the width, height of first image \n",
    "#     height, width, layers = frame.shape   \n",
    "    \n",
    "#     video = evt.cv2.VideoWriter(video_name,0x7634706d , 5, (width, height))  \n",
    "  \n",
    "#     # Appending the images to the video one by one \n",
    "#     for image in images:  \n",
    "#         video.write(evt.cv2.imread(image))  \n",
    "      \n",
    "#     # Deallocating memories taken for window creation \n",
    "#     evt.cv2.destroyAllWindows()  \n",
    "#     video.release()  # releasing the video generated\n",
    "\n",
    "\n",
    "\n",
    "def generate_video(frames_directory, output_name):\n",
    "    image_folder = frames_directory\n",
    "    video_name = output_name\n",
    "    \n",
    "    # List all files in the directory and sort them\n",
    "    images = sorted([img for img in os.listdir(image_folder) if img.endswith(\".png\")])\n",
    "    \n",
    "    # Ensure there are images in the directory\n",
    "    if not images:\n",
    "        raise ValueError(\"No images found in the provided directory.\")\n",
    "    \n",
    "    # Read the first image to get dimensions\n",
    "    first_frame = cv2.imread(os.path.join(image_folder, images[0]))\n",
    "    if first_frame is None:\n",
    "        raise ValueError(\"The first image could not be read. Please check the image files.\")\n",
    "    \n",
    "    height, width, layers = first_frame.shape   \n",
    "    \n",
    "    # Define the codec and create VideoWriter object\n",
    "    fourcc = cv2.VideoWriter_fourcc(*'mp4v')  # Using 'mp4v' codec\n",
    "    video = cv2.VideoWriter(video_name, fourcc, 5, (width, height))  \n",
    "  \n",
    "    # Add each image to the video\n",
    "    for image in images:  \n",
    "        frame = cv2.imread(os.path.join(image_folder, image))\n",
    "        if frame is None:\n",
    "            print(f\"Warning: Image {image} could not be read. Skipping.\")\n",
    "            continue\n",
    "        video.write(frame)\n",
    "    \n",
    "    # Release the video\n",
    "    video.release()\n",
    "    cv2.destroyAllWindows()\n"
   ]
  },
  {
   "cell_type": "code",
   "execution_count": 16,
   "metadata": {},
   "outputs": [],
   "source": [
    "segment_points = np.arange(1, evt.N+2)\n",
    "final_positions_array = deepcopy(x_node_array)\n",
    "for i in range(final_positions_array.shape[0]):\n",
    "    for j in range(final_positions_array.shape[1]):\n",
    "        if j >= evt.N:\n",
    "            continue\n",
    "        else:\n",
    "            final_positions_array[i][j+1] += displacements[i][j]"
   ]
  },
  {
   "cell_type": "code",
   "execution_count": 17,
   "metadata": {},
   "outputs": [],
   "source": [
    "segment_energies = np.zeros((final_positions_array.shape[0], evt.N + 1))\n",
    "for time_index in range(segment_energies.shape[0]):\n",
    "    for node_index in range(evt.N+1):\n",
    "        p1 = (final_positions_array[time_index][node_index], 0)\n",
    "        p2 = (final_positions_array[time_index][node_index+1], 0)\n",
    "        new_segment_length = evt.euclideanDistance(p1, p2)\n",
    "        segment_energies[time_index][node_index] = 0.5 * K_arr[0] * (new_segment_length - initial_lengths[node_index])**2"
   ]
  },
  {
   "cell_type": "code",
   "execution_count": 18,
   "metadata": {},
   "outputs": [],
   "source": [
    "segment_midpoints = np.zeros(segment_energies.shape)\n",
    "for time_index in range(segment_energies.shape[0]):\n",
    "    for node_index in range(evt.N+1):\n",
    "        p1 = (final_positions_array[time_index][node_index], 0)\n",
    "        p2 = (final_positions_array[time_index][node_index+1], 0)\n",
    "        midpoint = (p1[0] + p2[0])/2\n",
    "        segment_midpoints[time_index][node_index] = midpoint"
   ]
  },
  {
   "cell_type": "code",
   "execution_count": 27,
   "metadata": {},
   "outputs": [],
   "source": [
    "def make_line_displacement_frames(displacements, potential, path_to_frames = 'line_example/NOISE_DISPLACEMENT_FRAMES/'):\n",
    "    #read - in as pd.DataFrame.to_numpy() for displacements and squeezed axis 1 for potential\n",
    "    for i in range(potential.shape[0]):\n",
    "        plt.figure(figsize = (15,12))\n",
    "        plt.plot(x_node_array[i][1:-1], displacements[i])\n",
    "        plt.title(\"Displacement Versus Initial Free Node Position on Time Step: \" + str(i).zfill(3))\n",
    "        plt.ylim((-500,500))\n",
    "        plt.xlim((0,600))\n",
    "        plt.savefig(path_to_frames+str(i).zfill(3)+\".png\")\n",
    "        plt.close()\n",
    "\n",
    "def make_line_potential_frames(segment_midpoints, segment_energies, path_to_frames = 'line_example/NOISE_POTENTIAL_FRAMES/'):\n",
    "    #read - in as pd.DataFrame.to_numpy() for displacements and squeezed axis 1 for potential\n",
    "    for time_index in range(potential.shape[0]):\n",
    "        plt.figure(figsize = (15,12))\n",
    "        plt.plot(segment_midpoints[time_index], segment_energies[time_index])\n",
    "        plt.title(\"Potential Profile on Frame \" + str(time_index).zfill(3))\n",
    "        plt.ylim((0,400))\n",
    "        plt.xlim((-550,1550))\n",
    "        plt.savefig(path_to_frames+str(time_index).zfill(3)+\".png\")\n",
    "        plt.close()\n"
   ]
  },
  {
   "cell_type": "code",
   "execution_count": 20,
   "metadata": {},
   "outputs": [],
   "source": [
    "make_line_displacement_frames(displacements, potential)"
   ]
  },
  {
   "cell_type": "code",
   "execution_count": 28,
   "metadata": {},
   "outputs": [],
   "source": [
    "make_line_potential_frames(segment_midpoints, segment_energies)"
   ]
  },
  {
   "cell_type": "code",
   "execution_count": 22,
   "metadata": {},
   "outputs": [],
   "source": [
    "formatted_frames('line_example/NOISE_DISPLACEMENT_FRAMES', 'line_example/TRIMMED_NOISE_DISPLACEMENT_FRAMES/')"
   ]
  },
  {
   "cell_type": "code",
   "execution_count": 29,
   "metadata": {},
   "outputs": [],
   "source": [
    "formatted_frames('line_example/NOISE_POTENTIAL_FRAMES', 'line_example/TRIMMED_NOISE_POTENTIAL_FRAMES/')"
   ]
  },
  {
   "cell_type": "code",
   "execution_count": 24,
   "metadata": {},
   "outputs": [],
   "source": [
    "generate_video('line_example/TRIMMED_NOISE_DISPLACEMENT_FRAMES', 'line_example/noise_displacement_evolution.mp4')"
   ]
  },
  {
   "cell_type": "code",
   "execution_count": 30,
   "metadata": {},
   "outputs": [],
   "source": [
    "generate_video('line_example/TRIMMED_NOISE_POTENTIAL_FRAMES', 'line_example/noise_potential_evolution.mp4')"
   ]
  },
  {
   "cell_type": "code",
   "execution_count": 26,
   "metadata": {},
   "outputs": [
    {
     "data": {
      "image/png": "[encoded data removed]",
      "text/plain": [
       "<Figure size 1080x864 with 1 Axes>"
      ]
     },
     "metadata": {
      "needs_background": "light"
     },
     "output_type": "display_data"
    }
   ],
   "source": [
    "plt.figure(figsize=(15, 12))\n",
    "plt.plot(np.arange(1, total_time_steps + 1), potential, label = 'U(t)')\n",
    "plt.title( 'Potential Energy Versus Time (Arbitrary Units on Both Axes)', fontsize = 20)\n",
    "plt.xlabel('Time Step', fontsize = 16)\n",
    "plt.ylabel('Energy', fontsize = 16)\n",
    "plt.legend(fontsize = 16)\n",
    "plt.savefig('line_example/noise_energy_time_plot.png')"
   ]
  },
  {
   "cell_type": "markdown",
   "metadata": {},
   "source": [
    "Evidently, the approach works perfectly."
   ]
  }
 ],
 "metadata": {
  "kernelspec": {
   "display_name": "base",
   "language": "python",
   "name": "python3"
  },
  "language_info": {
   "codemirror_mode": {
    "name": "ipython",
    "version": 3
   },
   "file_extension": ".py",
   "mimetype": "text/x-python",
   "name": "python",
   "nbconvert_exporter": "python",
   "pygments_lexer": "ipython3",
   "version": "3.9.12"
  }
 },
 "nbformat": 4,
 "nbformat_minor": 2
}
